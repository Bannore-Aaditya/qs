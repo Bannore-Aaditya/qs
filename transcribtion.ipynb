{
 "cells": [
  {
   "cell_type": "code",
   "execution_count": 1,
   "id": "a532591b",
   "metadata": {},
   "outputs": [
    {
     "name": "stderr",
     "output_type": "stream",
     "text": [
      "C:\\Users\\Aaditya M Bannore\\AppData\\Local\\Programs\\Python\\Python311\\Lib\\site-packages\\whisper\\transcribe.py:126: UserWarning: FP16 is not supported on CPU; using FP32 instead\n",
      "  warnings.warn(\"FP16 is not supported on CPU; using FP32 instead\")\n"
     ]
    },
    {
     "name": "stdout",
     "output_type": "stream",
     "text": [
      "Detecting language using up to the first 30 seconds. Use `--language` to specify the language\n",
      "Detected language: English\n",
      "[00:00.000 --> 00:03.000]  The Gerald gun experience.\n",
      "[00:03.000 --> 00:07.000]  What do you think the UFO phenomena is?\n",
      "[00:07.000 --> 00:15.000]  Yeah, so I think first of all that there are a lot of different varieties of it, but when we look at,\n",
      "[00:15.000 --> 00:22.000]  like we were looking at the frances of his CC and the kind of historical things and the abductions and things like that,\n",
      "[00:23.000 --> 00:34.000]  I think that it's been around for a long time and that these are things that are in communication with us.\n",
      "[00:34.000 --> 00:44.000]  So I used what I do in my book, both the books that I wrote about this is I talked to people who I think represent thousands of people.\n",
      "[00:44.000 --> 00:54.000]  So each person in the book represents thousands if not more, maybe many thousands of people who have had experiences and the ways in which they interpret them.\n",
      "[00:54.000 --> 01:03.000]  So all of the people seem to have had experiences where now what they want to do is they actually want to work for justice in different ways.\n",
      "[01:03.000 --> 01:13.000]  Like Jose, the veteran in my book, he's working with young people and helping them deal with being addicted to social media and things like that and helping them get through life,\n",
      "[01:13.000 --> 01:19.000]  which is really hard right now. And that's what he's doing. And then you look at Dr. Whiteley, right?\n",
      "[01:19.000 --> 01:26.000]  So she's working in the space where she's trying to help people deal with the fact that they're seeing things that, you know,\n",
      "[01:26.000 --> 01:32.000]  that could down planes and things like that and she's helping people talk about that. She's helping people.\n",
      "[01:33.000 --> 01:43.000]  Each person in, you know, is somehow doing what I'm suggesting that I think is an out to this kind of structural injustice that we see.\n",
      "[01:43.000 --> 01:58.000]  So I think that this is a transformational thing without the drugs is what's going on. Like some kind of massive experience that people are having and now getting out and people are being able to talk to each other through\n",
      "[01:58.000 --> 02:10.000]  the democratic communities and, you know, different types of social media. So it is, it's, we just see, you know, religions when they begin, they become viral at one point.\n",
      "[02:10.000 --> 02:15.000]  We've never seen it in an age where we have digital technology, but this is what we're seeing now.\n",
      "[02:15.000 --> 02:18.000]  What do you think the physical objects are?\n",
      "[02:18.000 --> 02:31.000]  Well, okay, so this is something that's very interesting. We just looked at the shot of Turin. I believe that there are these, I would call them and this is just my own non-scientific term.\n",
      "[02:31.000 --> 02:41.000]  Interdimensional objects. There are objects that have characteristics of our dimension and some other dimension.\n",
      "[02:42.000 --> 02:56.000]  So some other dimension has the capability or something from some other dimension has the capability of transporting a physical object into our realm.\n",
      "[02:56.000 --> 03:00.000]  Or even imprinting onto a physical object. Yeah.\n",
      "[03:00.000 --> 03:05.000]  How so? Well, I don't know. I mean, I think that's what I mean imprinting on.\n",
      "[03:05.000 --> 03:09.000]  The shroud of Turin, we see the imprint of, you know, the image and...\n",
      "[03:09.000 --> 03:11.000]  If it's real. Yeah, if it's real.\n",
      "[03:11.000 --> 03:19.000]  But it's an anomalous object. So we do have, from Gary, no, engineering objects that we don't know how they're engineered,\n",
      "[03:19.000 --> 03:25.000]  but they definitely look like they're, you know, it's, it's off planet.\n",
      "[03:25.000 --> 03:30.000]  I would call the kinds of things that we see in the historical record, interdimensional types of things.\n",
      "[03:30.000 --> 03:40.000]  Now, how I don't know Joe. Okay, so I just don't know, but I do think that scientists in the government know that these things exist and they would like to figure it out.\n",
      "[03:40.000 --> 03:51.000]  And so part of disclosure, the disclosure movement is outsourcing this and trying to get as many people as possible to help in figuring it out.\n",
      "[03:51.000 --> 03:56.000]  What do you think when they use the term donations?\n",
      "[03:56.000 --> 04:07.000]  What do you think the purpose of that is? If there is an object that is purposely released into our, you know, like I'm sure you're aware of cargo cults, right?\n",
      "[04:07.000 --> 04:17.000]  So with cargo cults where people who don't know, there's been some islands during World War I and World War II where planes landed there and they left.\n",
      "[04:17.000 --> 04:25.000]  And these people, they created these statues of these planes and they worshiped them.\n",
      "[04:25.000 --> 04:31.000]  And they wanted them to come back. Yes, because they got food and, you know, all kinds of wonderful things from the plane.\n",
      "[04:31.000 --> 04:34.000]  Yeah, but they thought of them as deities.\n",
      "[04:34.000 --> 04:38.000]  Right. The same way we would think of something from somewhere else.\n",
      "[04:38.000 --> 04:39.000]  Yeah.\n",
      "[04:39.000 --> 04:46.000]  Yeah, so yeah, that in my field, it has been called the cargo cult, the UFO cargo cult, right?\n",
      "[04:46.000 --> 04:54.000]  And obviously Tyler and James view these parts as, as donate, they call it the donation cycle, right?\n",
      "[04:54.000 --> 04:56.000]  So it's giving it the idea that.\n",
      "[04:56.000 --> 04:58.000]  Is that just one theory?\n",
      "[04:58.000 --> 05:00.000]  Yeah, that's just one theory.\n",
      "[05:00.000 --> 05:07.000]  Other theories that there's a biological organism that encounters a lightning storm and it actually crashes and there's physical bodies.\n",
      "[05:07.000 --> 05:09.000]  Oh, yeah, there is that. Yeah, there's that.\n",
      "[05:09.000 --> 05:11.000]  What was your take on that?\n",
      "[05:11.000 --> 05:19.000]  That's one of the things that Grush talked about and some of the other people talked about that there are biological things that have been recovered.\n",
      "[05:19.000 --> 05:26.000]  Well, what impressed me about the way about what he said was that he used the term biologics.\n",
      "[05:26.000 --> 05:37.000]  And I actually know that term because that's the same term that Tyler was talking about when he was creating materials in anti-gravity spaces on space shuttles and such.\n",
      "[05:37.000 --> 05:47.000]  So I was wondering because David Grush does get his information from people in allegedly in the programs, but he's never seen these materials that I know of.\n",
      "[05:47.000 --> 05:54.000]  I think he has some first-hand experience that he was not able to talk about that he's alluding to.\n",
      "[05:54.000 --> 05:55.000]  Okay.\n",
      "[05:55.000 --> 06:06.000]  I think, but this is this is recent and he's been very careful about how he releases this information and what he's able to release and not able to release.\n",
      "[06:06.000 --> 06:08.000]  That I was like, okay.\n",
      "[06:08.000 --> 06:17.000]  Yes, so I mean, I've not seen any any bodies nor have I seen intact craft, but I also have had.\n",
      "[06:17.000 --> 06:19.000]  Now remember, I don't have a clearance like he has.\n",
      "[06:19.000 --> 06:22.000]  So I can actually talk about what people have told me.\n",
      "[06:22.000 --> 06:26.000]  I have had people tell me that, yes, Diana, there are intact craft.\n",
      "[06:26.000 --> 06:30.000]  I don't know. I mean, maybe.\n",
      "[06:30.000 --> 06:33.000]  So I don't know, Joe.\n",
      "[06:33.000 --> 06:37.000]  Have you studied Bob Lazar?\n",
      "[06:37.000 --> 06:40.000]  Okay, yes, I have always asked about Bob Lazar.\n",
      "[06:40.000 --> 06:41.000]  Yeah.\n",
      "[06:41.000 --> 06:51.000]  And I don't know, but I can tell you that people that I've met who are associated with the programs tell me that he's he's he's right.\n",
      "[06:51.000 --> 06:58.000]  Now I know his backgrounds and I know, you know, all the things I don't have an opinion one way or the other.\n",
      "[06:58.000 --> 07:11.000]  I can also say that a lot of times people with very disturbing backgrounds, you know, who could be easily discredited or given information and shown things and told things.\n",
      "[07:11.000 --> 07:14.000]  Well, I would think that that's sort of like a little escape clause.\n",
      "[07:14.000 --> 07:15.000]  Yeah, I think so.\n",
      "[07:15.000 --> 07:16.000]  I think it is.\n",
      "[07:16.000 --> 07:24.000]  I mean, the guy's obviously a genius and was obviously a propulsion expert and put a fucking jet engine on a Honda and with the 1980s.\n",
      "[07:25.000 --> 07:27.000]  I know fascinating guy.\n",
      "[07:27.000 --> 07:28.000]  Yeah, yeah.\n",
      "[07:28.000 --> 07:38.000]  And, you know, he claims that there's some element, some element that exists in other places in the universe, which leads me to believe.\n",
      "[07:38.000 --> 07:43.000]  Well, not even to believe, but like, so here's the question.\n",
      "[07:43.000 --> 07:46.000]  Are some of these things from other planets?\n",
      "[07:46.000 --> 07:48.000]  Is that also in the equation?\n",
      "[07:48.000 --> 07:59.000]  I mean, just because something is traveling intermittently, we do know that there are an infinite number of planets in the universe.\n",
      "[07:59.000 --> 08:11.000]  I mean, we have no idea how many of them are capable of supporting human-like life or some other kind of life or an infinite number of varieties of life.\n",
      "[08:11.000 --> 08:26.000]  And if that life can do what we've done and get to some part of its progression, where it's capable of creating what we're calling artificial intelligence or super advanced technology, why wouldn't it come here?\n",
      "[08:26.000 --> 08:31.000]  Yes, I have, I'm not just, I'm not just counting it ET.\n",
      "[08:31.000 --> 08:32.000]  So that could be there too.\n",
      "[08:32.000 --> 08:40.000]  I think so, especially because of the ways in which the materials are being manufactured off planet, like the ones that we just saw,\n",
      "[08:40.000 --> 08:50.000]  that, you know, and that was information when I met Tyler 2014, and now it's a full-on thing that's happening, right?\n",
      "[08:50.000 --> 08:57.000]  So it's a supercharged program of creating things that will help us off planet.\n",
      "[08:57.000 --> 09:01.000]  I mean, certainly, then, yeah, I think so.\n",
      "[09:01.000 --> 09:03.000]  I mean, but I don't know.\n",
      "[09:03.000 --> 09:04.000]  Right.\n",
      "[09:04.000 --> 09:05.000]  So I have to just be honest.\n",
      "[09:05.000 --> 09:09.000]  So it might be a bunch of different things happening all at the same time.\n",
      "[09:09.000 --> 09:20.000]  Interdimensionally, extraterrestrily, something from a distant galaxy that's figured out some new method of propulsion that's beyond our imagination,\n",
      "[09:20.000 --> 09:25.000]  that can visit, and then also things that are coming here from other dimensions.\n",
      "[09:25.000 --> 09:26.000]  Yes.\n",
      "[09:26.000 --> 09:31.000]  And even recently, somebody had, you know, yeah, well, I can't say anything.\n",
      "[09:31.000 --> 09:33.000]  I can't say, I'm sorry.\n",
      "[09:33.000 --> 09:39.000]  I don't want to be that person that goes on your show and says, I can't say that, but I probably,\n",
      "[09:39.000 --> 09:47.000]  the most likely there are, if there's crash retrieval part, you know, crash retrievals here on Earth,\n",
      "[09:47.000 --> 09:51.000]  perhaps there are in space as well.\n",
      "[09:52.000 --> 09:59.000]  Do you when they talk about inventions that emerged post-roswell?\n",
      "[09:59.000 --> 10:05.000]  That's one of the points of speculation is that we have back engineered something,\n",
      "[10:05.000 --> 10:13.000]  and that this led to the creation of fiber optics and a lot of other technologies that seem to emerge after that time.\n",
      "[10:13.000 --> 10:14.000]  Yeah.\n",
      "[10:14.000 --> 10:21.000]  Part, so this question was prominent in my mind in 2012 when I met Jacques Valley.\n",
      "[10:21.000 --> 10:28.000]  So I was already aware of his work, even as a not a person who hadn't studied UFOs or even believed in them.\n",
      "[10:28.000 --> 10:30.000]  Jacques Valley is just one of these people, right?\n",
      "[10:30.000 --> 10:33.000]  That you come across his work and he's fascinating.\n",
      "[10:33.000 --> 10:40.000]  So I thought it was strange that not only was he a person who was, you know,\n",
      "[10:40.000 --> 10:44.000]  pre-engineered it, it arpen it, right? He was on arpen it, which is pre-internet.\n",
      "[10:44.000 --> 10:52.000]  He was creating that at the same time as being obsessed with UFOs and doing, you know, being a ufologist.\n",
      "[10:52.000 --> 10:56.000]  These things seemed that they had to be together, right?\n",
      "[10:56.000 --> 11:00.000]  There was something that, you know, what's going on here?\n",
      "[11:00.000 --> 11:08.000]  So, and I'm in touch with him, often, and he says a lot of things that are rather cryptic,\n",
      "[11:08.000 --> 11:20.000]  but sometimes I ask him specifically was what you were doing on arpenet related to back-engineered UFO parts.\n",
      "[11:20.000 --> 11:25.000]  And then he'd say something like, there are many secrets in Silicon Valley.\n",
      "[11:25.000 --> 11:26.000]  I'm like that.\n",
      "[11:26.000 --> 11:27.000]  Yeah.\n",
      "[11:27.000 --> 11:32.000]  Yeah, he's a real cryptic. He's kind of difficult to have a conversation with publicly.\n",
      "[11:32.000 --> 11:36.000]  Well, it does have a lot, I guess there are lots of secrets in Silicon Valley.\n",
      "[11:36.000 --> 11:37.000]  Of course.\n",
      "[11:37.000 --> 11:38.000]  Which is where he lives.\n",
      "[11:38.000 --> 11:39.000]  Yeah.\n",
      "[11:39.000 --> 11:45.000]  Another thing that was really fascinating about your book was you're talking about how much religion he studied.\n",
      "[11:45.000 --> 11:46.000]  Yes.\n",
      "[11:46.000 --> 11:47.000]  Yes.\n",
      "[11:47.000 --> 11:48.000]  That was really interesting.\n",
      "[11:48.000 --> 11:53.000]  So, in the book, what I do is I uncover, not just him, but Alan Heineck.\n",
      "[11:53.000 --> 12:00.000]  They were friends, and they were both Rosa Christians, which is a form of, he might not like me to say this,\n",
      "[12:00.000 --> 12:07.000]  but it's a form of mystical Christianity in a sense, but a lot of Rosa Christians don't view their roots as Christian.\n",
      "[12:07.000 --> 12:10.000]  They look at his Egyptian.\n",
      "[12:10.000 --> 12:13.000]  But it's basically, it's an esoteric tradition.\n",
      "[12:13.000 --> 12:16.000]  And it involves meditation.\n",
      "[12:16.000 --> 12:20.000]  I think it most likely involves this thing that you and I've been discussing.\n",
      "[12:20.000 --> 12:26.000]  And the whole talk so far is the pineal gland thing, you know, the access point.\n",
      "[12:27.000 --> 12:33.000]  Because both of them believe in this kind of life, this meditating and things like that.\n",
      "[12:33.000 --> 12:40.000]  And so, I included references, everything I say in my books, by the way, I pass to the person that I'm writing the chapter about.\n",
      "[12:40.000 --> 12:44.000]  So, everything that I said about Jacques, I gave it to him beforehand.\n",
      "[12:44.000 --> 12:47.000]  And I said, are you okay with me saying this publicly?\n",
      "[12:47.000 --> 12:51.000]  And so, it passed all the tests.\n",
      "[12:51.000 --> 12:58.000]  And I also talk about going to his apartment and seeing his library, which is an amazing library.\n",
      "[12:58.000 --> 13:02.000]  And he has stained glass from a cathedral.\n",
      "[13:02.000 --> 13:10.000]  In a church, a cathedral is a special place for Rosa Christians, like a special place of presence of the sacred.\n",
      "[13:10.000 --> 13:12.000]  So, and he actually did those himself.\n",
      "[13:12.000 --> 13:16.000]  So, he learned how to do stained glass from people at the church, or, by the way.\n",
      "[13:16.000 --> 13:18.000]  And, yeah, just amazing.\n",
      "[13:18.000 --> 13:24.000]  And he had a lot of books on angels and fallen angels in that library.\n",
      "[13:24.000 --> 13:28.000]  Like, almost like it was almost like going into the Vatican archive, going into this place,\n",
      "[13:28.000 --> 13:32.000]  because these looked like first editions or close.\n",
      "[13:32.000 --> 13:35.000]  So, you know, really, really old books about this topic.\n",
      "[13:35.000 --> 13:36.000]  Fallen angel.\n",
      "[13:36.000 --> 13:43.000]  Yeah, I was pretty shocked when I went, I was, we were going to have lunch and talk about the crash site,\n",
      "[13:43.000 --> 13:46.000]  and maybe talk about, you know, what I learned from Tyler, and that kind of thing.\n",
      "[13:46.000 --> 13:49.000]  And we went to lunch, and then he said, do you want to see the library?\n",
      "[13:49.000 --> 13:51.000]  And I was like, yes, of course.\n",
      "[13:51.000 --> 13:56.000]  So, I saw the handwritten documents from Project Bluebook.\n",
      "[13:56.000 --> 13:58.000]  And that was just going into the library.\n",
      "[13:58.000 --> 13:59.000]  That wasn't actually in the library.\n",
      "[13:59.000 --> 14:05.000]  Then when we got in there, I noticed a big bookcases of these books.\n",
      "[14:05.000 --> 14:07.000]  And, of course, I was drawn to them.\n",
      "[14:07.000 --> 14:11.000]  And he said, he picked out one and he opened it and it was about angels.\n",
      "[14:11.000 --> 14:13.000]  And he said, this is the book about angels.\n",
      "[14:13.000 --> 14:14.000]  And I could see that.\n",
      "[14:14.000 --> 14:16.000]  And I was looking at it as a wow.\n",
      "[14:16.000 --> 14:20.000]  And then I looked at the other bookshelf and that bookshelf was just as impressive.\n",
      "[14:20.000 --> 14:22.000]  And then it was about fallen angels.\n",
      "[14:22.000 --> 14:24.000]  He said, oh, this one's about fallen angels.\n",
      "[14:24.000 --> 14:25.000]  And then he made a joke.\n",
      "[14:25.000 --> 14:27.000]  And he said, you can't have one without the other.\n",
      "[14:27.000 --> 14:30.000]  And I thought, yeah, I thought that was really interesting.\n",
      "[14:30.000 --> 14:33.000]  That does seem to align with what we're talking about.\n",
      "[14:33.000 --> 14:36.000]  It's like the struggle of good and evil.\n",
      "[14:36.000 --> 14:37.000]  It does.\n",
      "[14:37.000 --> 14:38.000]  That's what he said too.\n",
      "[14:39.000 --> 14:41.000]  And I was actually shocked at that point.\n",
      "[14:41.000 --> 14:42.000]  I was like, wow.\n",
      "[14:42.000 --> 14:45.000]  So just, you know, I'm a professor of religion.\n",
      "[14:45.000 --> 14:50.000]  You know, so I'm like, I'm right about, you know, my intuition was somehow confirmed.\n",
      "[14:50.000 --> 14:54.000]  And by the way, I think people, I think this should be,\n",
      "[14:54.000 --> 14:56.000]  Breeze, I'm not sure if this is totally true.\n",
      "[14:56.000 --> 15:00.000]  But I believe he was the inspiration for the French character in closing\n",
      "[15:00.000 --> 15:01.000]  Countries of the Third Kind.\n",
      "[15:01.000 --> 15:02.000]  I think so.\n",
      "[15:02.000 --> 15:03.000]  Yeah.\n"
     ]
    },
    {
     "name": "stderr",
     "output_type": "stream",
     "text": [
      "[nltk_data] Downloading package stopwords to C:\\Users\\Aaditya M\n",
      "[nltk_data]     Bannore\\AppData\\Roaming\\nltk_data...\n",
      "[nltk_data]   Package stopwords is already up-to-date!\n"
     ]
    },
    {
     "name": "stdout",
     "output_type": "stream",
     "text": [
      "22\n",
      "The shroud of Turin, we see the imprint of, you know, the image and...\n",
      "\n",
      "25\n",
      "but they definitely look like they're, you know, it's, it's off planet.\n",
      "\n",
      "55\n",
      "So I can actually talk about what people have told me.\n",
      "\n",
      "72\n",
      "Well, not even to believe, but like, so here's the question.\n",
      "\n",
      "78\n",
      "Yes, I have, I'm not just, I'm not just counting it ET.\n",
      "\n",
      "87\n",
      "So it might be a bunch of different things happening all at the same time.\n",
      "\n",
      "124\n",
      "They were friends, and they were both Rosa Christians, which is a form of, he might not like me to say this,\n",
      "\n",
      "131\n",
      "Because both of them believe in this kind of life, this meditating and things like that.\n",
      "\n",
      "151\n",
      "So, I saw the handwritten documents from Project Bluebook.\n",
      "\n",
      "174\n",
      "And by the way, I think people, I think this should be,\n",
      "\n",
      "185.0\n"
     ]
    },
    {
     "ename": "OSError",
     "evalue": "MoviePy error: failed to read the duration of file C:\\Users\\Aaditya M Bannore\\AppData\\Local\\Temp\\temp_video.mp4.\nHere are the file infos returned by ffmpeg:\n\nffmpeg version 4.2.2 Copyright (c) 2000-2019 the FFmpeg developers\r\n  built with gcc 9.2.1 (GCC) 20200122\r\n  configuration: --enable-gpl --enable-version3 --enable-sdl2 --enable-fontconfig --enable-gnutls --enable-iconv --enable-libass --enable-libdav1d --enable-libbluray --enable-libfreetype --enable-libmp3lame --enable-libopencore-amrnb --enable-libopencore-amrwb --enable-libopenjpeg --enable-libopus --enable-libshine --enable-libsnappy --enable-libsoxr --enable-libtheora --enable-libtwolame --enable-libvpx --enable-libwavpack --enable-libwebp --enable-libx264 --enable-libx265 --enable-libxml2 --enable-libzimg --enable-lzma --enable-zlib --enable-gmp --enable-libvidstab --enable-libvorbis --enable-libvo-amrwbenc --enable-libmysofa --enable-libspeex --enable-libxvid --enable-libaom --enable-libmfx --enable-amf --enable-ffnvcodec --enable-cuvid --enable-d3d11va --enable-nvenc --enable-nvdec --enable-dxva2 --enable-avisynth --enable-libopenmpt\r\n  libavutil      56. 31.100 / 56. 31.100\r\n  libavcodec     58. 54.100 / 58. 54.100\r\n  libavformat    58. 29.100 / 58. 29.100\r\n  libavdevice    58.  8.100 / 58.  8.100\r\n  libavfilter     7. 57.100 /  7. 57.100\r\n  libswscale      5.  5.100 /  5.  5.100\r\n  libswresample   3.  5.100 /  3.  5.100\r\n  libpostproc    55.  5.100 / 55.  5.100\r\n[mov,mp4,m4a,3gp,3g2,mj2 @ 0000029687a18f80] Format mov,mp4,m4a,3gp,3g2,mj2 detected only with low score of 1, misdetection possible!\r\n[mov,mp4,m4a,3gp,3g2,mj2 @ 0000029687a18f80] moov atom not found\r\nC:\\Users\\Aaditya M Bannore\\AppData\\Local\\Temp\\temp_video.mp4: Invalid data found when processing input\r\n",
     "output_type": "error",
     "traceback": [
      "\u001b[1;31m---------------------------------------------------------------------------\u001b[0m",
      "\u001b[1;31mIndexError\u001b[0m                                Traceback (most recent call last)",
      "File \u001b[1;32m~\\AppData\\Local\\Programs\\Python\\Python311\\Lib\\site-packages\\moviepy\\video\\io\\ffmpeg_reader.py:285\u001b[0m, in \u001b[0;36mffmpeg_parse_infos\u001b[1;34m(filename, print_infos, check_duration, fps_source)\u001b[0m\n\u001b[0;32m    284\u001b[0m index \u001b[38;5;241m=\u001b[39m \u001b[38;5;241m-\u001b[39m\u001b[38;5;241m1\u001b[39m \u001b[38;5;28;01mif\u001b[39;00m is_GIF \u001b[38;5;28;01melse\u001b[39;00m \u001b[38;5;241m0\u001b[39m\n\u001b[1;32m--> 285\u001b[0m line \u001b[38;5;241m=\u001b[39m \u001b[43m[\u001b[49m\u001b[43ml\u001b[49m\u001b[43m \u001b[49m\u001b[38;5;28;43;01mfor\u001b[39;49;00m\u001b[43m \u001b[49m\u001b[43ml\u001b[49m\u001b[43m \u001b[49m\u001b[38;5;129;43;01min\u001b[39;49;00m\u001b[43m \u001b[49m\u001b[43mlines\u001b[49m\u001b[43m \u001b[49m\u001b[38;5;28;43;01mif\u001b[39;49;00m\u001b[43m \u001b[49m\u001b[43mkeyword\u001b[49m\u001b[43m \u001b[49m\u001b[38;5;129;43;01min\u001b[39;49;00m\u001b[43m \u001b[49m\u001b[43ml\u001b[49m\u001b[43m]\u001b[49m\u001b[43m[\u001b[49m\u001b[43mindex\u001b[49m\u001b[43m]\u001b[49m\n\u001b[0;32m    286\u001b[0m match \u001b[38;5;241m=\u001b[39m re\u001b[38;5;241m.\u001b[39mfindall(\u001b[38;5;124m\"\u001b[39m\u001b[38;5;124m([0-9][0-9]:[0-9][0-9]:[0-9][0-9].[0-9][0-9])\u001b[39m\u001b[38;5;124m\"\u001b[39m, line)[\u001b[38;5;241m0\u001b[39m]\n",
      "\u001b[1;31mIndexError\u001b[0m: list index out of range",
      "\nDuring handling of the above exception, another exception occurred:\n",
      "\u001b[1;31mOSError\u001b[0m                                   Traceback (most recent call last)",
      "Cell \u001b[1;32mIn[1], line 159\u001b[0m\n\u001b[0;32m    157\u001b[0m name \u001b[38;5;241m=\u001b[39m \u001b[38;5;28mstr\u001b[39m(j) \u001b[38;5;241m+\u001b[39m \u001b[38;5;124m\"\u001b[39m\u001b[38;5;124moutput.mp4\u001b[39m\u001b[38;5;124m\"\u001b[39m\n\u001b[0;32m    158\u001b[0m j\u001b[38;5;241m=\u001b[39mj\u001b[38;5;241m+\u001b[39m\u001b[38;5;241m1\u001b[39m\n\u001b[1;32m--> 159\u001b[0m clip1 \u001b[38;5;241m=\u001b[39m \u001b[43mVideoFileClip\u001b[49m\u001b[43m(\u001b[49m\u001b[43mtemp_file_path\u001b[49m\u001b[43m)\u001b[49m\u001b[38;5;241m.\u001b[39msubclip(start_time, end_time)\n\u001b[0;32m    160\u001b[0m clip1\u001b[38;5;241m.\u001b[39mwrite_videofile(name, codec\u001b[38;5;241m=\u001b[39m\u001b[38;5;124m\"\u001b[39m\u001b[38;5;124mlibx264\u001b[39m\u001b[38;5;124m\"\u001b[39m, audio_codec\u001b[38;5;241m=\u001b[39m\u001b[38;5;124m\"\u001b[39m\u001b[38;5;124maac\u001b[39m\u001b[38;5;124m\"\u001b[39m)\n\u001b[0;32m    162\u001b[0m \u001b[38;5;28mprint\u001b[39m(\u001b[38;5;124m\"\u001b[39m\u001b[38;5;124mVideo successfully created and saved as output.mp4\u001b[39m\u001b[38;5;124m\"\u001b[39m)\n",
      "File \u001b[1;32m~\\AppData\\Local\\Programs\\Python\\Python311\\Lib\\site-packages\\moviepy\\video\\io\\VideoFileClip.py:88\u001b[0m, in \u001b[0;36mVideoFileClip.__init__\u001b[1;34m(self, filename, has_mask, audio, audio_buffersize, target_resolution, resize_algorithm, audio_fps, audio_nbytes, verbose, fps_source)\u001b[0m\n\u001b[0;32m     86\u001b[0m \u001b[38;5;66;03m# Make a reader\u001b[39;00m\n\u001b[0;32m     87\u001b[0m pix_fmt \u001b[38;5;241m=\u001b[39m \u001b[38;5;124m\"\u001b[39m\u001b[38;5;124mrgba\u001b[39m\u001b[38;5;124m\"\u001b[39m \u001b[38;5;28;01mif\u001b[39;00m has_mask \u001b[38;5;28;01melse\u001b[39;00m \u001b[38;5;124m\"\u001b[39m\u001b[38;5;124mrgb24\u001b[39m\u001b[38;5;124m\"\u001b[39m\n\u001b[1;32m---> 88\u001b[0m \u001b[38;5;28mself\u001b[39m\u001b[38;5;241m.\u001b[39mreader \u001b[38;5;241m=\u001b[39m \u001b[43mFFMPEG_VideoReader\u001b[49m\u001b[43m(\u001b[49m\u001b[43mfilename\u001b[49m\u001b[43m,\u001b[49m\u001b[43m \u001b[49m\u001b[43mpix_fmt\u001b[49m\u001b[38;5;241;43m=\u001b[39;49m\u001b[43mpix_fmt\u001b[49m\u001b[43m,\u001b[49m\n\u001b[0;32m     89\u001b[0m \u001b[43m                                 \u001b[49m\u001b[43mtarget_resolution\u001b[49m\u001b[38;5;241;43m=\u001b[39;49m\u001b[43mtarget_resolution\u001b[49m\u001b[43m,\u001b[49m\n\u001b[0;32m     90\u001b[0m \u001b[43m                                 \u001b[49m\u001b[43mresize_algo\u001b[49m\u001b[38;5;241;43m=\u001b[39;49m\u001b[43mresize_algorithm\u001b[49m\u001b[43m,\u001b[49m\n\u001b[0;32m     91\u001b[0m \u001b[43m                                 \u001b[49m\u001b[43mfps_source\u001b[49m\u001b[38;5;241;43m=\u001b[39;49m\u001b[43mfps_source\u001b[49m\u001b[43m)\u001b[49m\n\u001b[0;32m     93\u001b[0m \u001b[38;5;66;03m# Make some of the reader's attributes accessible from the clip\u001b[39;00m\n\u001b[0;32m     94\u001b[0m \u001b[38;5;28mself\u001b[39m\u001b[38;5;241m.\u001b[39mduration \u001b[38;5;241m=\u001b[39m \u001b[38;5;28mself\u001b[39m\u001b[38;5;241m.\u001b[39mreader\u001b[38;5;241m.\u001b[39mduration\n",
      "File \u001b[1;32m~\\AppData\\Local\\Programs\\Python\\Python311\\Lib\\site-packages\\moviepy\\video\\io\\ffmpeg_reader.py:35\u001b[0m, in \u001b[0;36mFFMPEG_VideoReader.__init__\u001b[1;34m(self, filename, print_infos, bufsize, pix_fmt, check_duration, target_resolution, resize_algo, fps_source)\u001b[0m\n\u001b[0;32m     33\u001b[0m \u001b[38;5;28mself\u001b[39m\u001b[38;5;241m.\u001b[39mfilename \u001b[38;5;241m=\u001b[39m filename\n\u001b[0;32m     34\u001b[0m \u001b[38;5;28mself\u001b[39m\u001b[38;5;241m.\u001b[39mproc \u001b[38;5;241m=\u001b[39m \u001b[38;5;28;01mNone\u001b[39;00m\n\u001b[1;32m---> 35\u001b[0m infos \u001b[38;5;241m=\u001b[39m \u001b[43mffmpeg_parse_infos\u001b[49m\u001b[43m(\u001b[49m\u001b[43mfilename\u001b[49m\u001b[43m,\u001b[49m\u001b[43m \u001b[49m\u001b[43mprint_infos\u001b[49m\u001b[43m,\u001b[49m\u001b[43m \u001b[49m\u001b[43mcheck_duration\u001b[49m\u001b[43m,\u001b[49m\n\u001b[0;32m     36\u001b[0m \u001b[43m                           \u001b[49m\u001b[43mfps_source\u001b[49m\u001b[43m)\u001b[49m\n\u001b[0;32m     37\u001b[0m \u001b[38;5;28mself\u001b[39m\u001b[38;5;241m.\u001b[39mfps \u001b[38;5;241m=\u001b[39m infos[\u001b[38;5;124m'\u001b[39m\u001b[38;5;124mvideo_fps\u001b[39m\u001b[38;5;124m'\u001b[39m]\n\u001b[0;32m     38\u001b[0m \u001b[38;5;28mself\u001b[39m\u001b[38;5;241m.\u001b[39msize \u001b[38;5;241m=\u001b[39m infos[\u001b[38;5;124m'\u001b[39m\u001b[38;5;124mvideo_size\u001b[39m\u001b[38;5;124m'\u001b[39m]\n",
      "File \u001b[1;32m~\\AppData\\Local\\Programs\\Python\\Python311\\Lib\\site-packages\\moviepy\\video\\io\\ffmpeg_reader.py:289\u001b[0m, in \u001b[0;36mffmpeg_parse_infos\u001b[1;34m(filename, print_infos, check_duration, fps_source)\u001b[0m\n\u001b[0;32m    287\u001b[0m         result[\u001b[38;5;124m'\u001b[39m\u001b[38;5;124mduration\u001b[39m\u001b[38;5;124m'\u001b[39m] \u001b[38;5;241m=\u001b[39m cvsecs(match)\n\u001b[0;32m    288\u001b[0m     \u001b[38;5;28;01mexcept\u001b[39;00m:\n\u001b[1;32m--> 289\u001b[0m         \u001b[38;5;28;01mraise\u001b[39;00m \u001b[38;5;167;01mIOError\u001b[39;00m((\u001b[38;5;124m\"\u001b[39m\u001b[38;5;124mMoviePy error: failed to read the duration of file \u001b[39m\u001b[38;5;132;01m%s\u001b[39;00m\u001b[38;5;124m.\u001b[39m\u001b[38;5;130;01m\\n\u001b[39;00m\u001b[38;5;124m\"\u001b[39m\n\u001b[0;32m    290\u001b[0m                        \u001b[38;5;124m\"\u001b[39m\u001b[38;5;124mHere are the file infos returned by ffmpeg:\u001b[39m\u001b[38;5;130;01m\\n\u001b[39;00m\u001b[38;5;130;01m\\n\u001b[39;00m\u001b[38;5;132;01m%s\u001b[39;00m\u001b[38;5;124m\"\u001b[39m)\u001b[38;5;241m%\u001b[39m(\n\u001b[0;32m    291\u001b[0m                           filename, infos))\n\u001b[0;32m    293\u001b[0m \u001b[38;5;66;03m# get the output line that speaks about video\u001b[39;00m\n\u001b[0;32m    294\u001b[0m lines_video \u001b[38;5;241m=\u001b[39m [l \u001b[38;5;28;01mfor\u001b[39;00m l \u001b[38;5;129;01min\u001b[39;00m lines \u001b[38;5;28;01mif\u001b[39;00m \u001b[38;5;124m'\u001b[39m\u001b[38;5;124m Video: \u001b[39m\u001b[38;5;124m'\u001b[39m \u001b[38;5;129;01min\u001b[39;00m l \u001b[38;5;129;01mand\u001b[39;00m re\u001b[38;5;241m.\u001b[39msearch(\u001b[38;5;124m'\u001b[39m\u001b[38;5;124m\\\u001b[39m\u001b[38;5;124md+x\u001b[39m\u001b[38;5;124m\\\u001b[39m\u001b[38;5;124md+\u001b[39m\u001b[38;5;124m'\u001b[39m, l)]\n",
      "\u001b[1;31mOSError\u001b[0m: MoviePy error: failed to read the duration of file C:\\Users\\Aaditya M Bannore\\AppData\\Local\\Temp\\temp_video.mp4.\nHere are the file infos returned by ffmpeg:\n\nffmpeg version 4.2.2 Copyright (c) 2000-2019 the FFmpeg developers\r\n  built with gcc 9.2.1 (GCC) 20200122\r\n  configuration: --enable-gpl --enable-version3 --enable-sdl2 --enable-fontconfig --enable-gnutls --enable-iconv --enable-libass --enable-libdav1d --enable-libbluray --enable-libfreetype --enable-libmp3lame --enable-libopencore-amrnb --enable-libopencore-amrwb --enable-libopenjpeg --enable-libopus --enable-libshine --enable-libsnappy --enable-libsoxr --enable-libtheora --enable-libtwolame --enable-libvpx --enable-libwavpack --enable-libwebp --enable-libx264 --enable-libx265 --enable-libxml2 --enable-libzimg --enable-lzma --enable-zlib --enable-gmp --enable-libvidstab --enable-libvorbis --enable-libvo-amrwbenc --enable-libmysofa --enable-libspeex --enable-libxvid --enable-libaom --enable-libmfx --enable-amf --enable-ffnvcodec --enable-cuvid --enable-d3d11va --enable-nvenc --enable-nvdec --enable-dxva2 --enable-avisynth --enable-libopenmpt\r\n  libavutil      56. 31.100 / 56. 31.100\r\n  libavcodec     58. 54.100 / 58. 54.100\r\n  libavformat    58. 29.100 / 58. 29.100\r\n  libavdevice    58.  8.100 / 58.  8.100\r\n  libavfilter     7. 57.100 /  7. 57.100\r\n  libswscale      5.  5.100 /  5.  5.100\r\n  libswresample   3.  5.100 /  3.  5.100\r\n  libpostproc    55.  5.100 / 55.  5.100\r\n[mov,mp4,m4a,3gp,3g2,mj2 @ 0000029687a18f80] Format mov,mp4,m4a,3gp,3g2,mj2 detected only with low score of 1, misdetection possible!\r\n[mov,mp4,m4a,3gp,3g2,mj2 @ 0000029687a18f80] moov atom not found\r\nC:\\Users\\Aaditya M Bannore\\AppData\\Local\\Temp\\temp_video.mp4: Invalid data found when processing input\r\n"
     ]
    }
   ],
   "source": [
    "from pytube import YouTube\n",
    "import torch\n",
    "import os\n",
    "\n",
    "# Set the device\n",
    "device = \"cuda\" if torch.cuda.is_available() else \"cpu\"\n",
    "\n",
    "def video_to_audio(video_URL, destination, final_filename):\n",
    "\n",
    "  # Get the video\n",
    "  video = YouTube(video_URL)\n",
    "\n",
    "  # Convert video to Audio\n",
    "  audio = video.streams.filter(only_audio=True).first()\n",
    "\n",
    "  # Save to destination\n",
    "  output = audio.download(output_path = destination)\n",
    "\n",
    "  _, ext = os.path.splitext(output)\n",
    "  new_file = final_filename + '.mp3'\n",
    "\n",
    "  # Change the name of the file\n",
    "  os.rename(output, new_file)\n",
    "\n",
    "# Video to audio\n",
    "video_URL = 'https://www.youtube.com/watch?v=g9ZU-SvOiSU'\n",
    "destination = \".\"\n",
    "final_filename = \"motivational_speech2\"\n",
    "video_to_audio(video_URL, destination, final_filename)\n",
    "        \n",
    "!whisper motivational_speech2.mp3 --model tiny\n",
    "\n",
    "import os\n",
    "import re\n",
    "\n",
    "with open('D:\\Aaditya\\ML_project\\sypker\\motivational_speech2.srt', 'r') as h:\n",
    "    sub = h.readlines()\n",
    "\n",
    "re_pattern = r'[0-9]{2}:[0-9]{2}:[0-9]{2},[0-9]{3} -->'\n",
    "regex = re.compile(re_pattern)\n",
    "# Get start times\n",
    "start_times = list(filter(regex.search, sub))\n",
    "start_times = [time.split(' ')[0] for time in start_times]\n",
    "# Get lines\n",
    "lines = [[]]\n",
    "for sentence in sub:\n",
    "    if re.match(re_pattern, sentence):\n",
    "        lines[-1].pop()\n",
    "        lines.append([])\n",
    "    else:\n",
    "        lines[-1].append(sentence)\n",
    "lines = lines[1:]\n",
    "\n",
    "# Merge results\n",
    "subs = {start_time:line for start_time,line in zip(start_times, lines)}\n",
    "\n",
    "import pandas as pd\n",
    "df = pd.DataFrame.from_dict(subs)\n",
    "df = df.transpose()\n",
    "df\n",
    "df.to_csv('output4.csv', encoding = 'utf-8-sig')\n",
    "\n",
    "\n",
    "import time\n",
    "time.sleep(10)\n",
    "\n",
    "df = pd.read_csv('output4.csv')\n",
    "df.columns =['time', 'text','end']\n",
    "\n",
    "marks_list = df['text'].tolist()\n",
    "#print(marks_list)\n",
    "n = len(marks_list)\n",
    "sentences = marks_list\n",
    "doc = \"\"\n",
    "for i in marks_list:\n",
    "  doc = doc + i;\n",
    "\n",
    "import numpy as np\n",
    "import pandas as pd\n",
    "import nltk\n",
    "import re\n",
    "from nltk.tokenize import sent_tokenize\n",
    "from nltk.corpus import stopwords\n",
    "from gensim.models import Word2Vec\n",
    "from scipy import spatial\n",
    "import networkx as nx\n",
    "\n",
    "nltk.download('stopwords')\n",
    "\n",
    "sentences_clean=[re.sub(r'[^\\w\\s]','',sentence.lower()) for sentence in sentences]\n",
    "stop_words = stopwords.words('english')\n",
    "sentence_tokens=[[words for words in sentence.split(' ') if words not in stop_words] for sentence in sentences_clean]\n",
    "\n",
    "w2v=Word2Vec(sentence_tokens,\n",
    "             vector_size=1,\n",
    "             min_count=1,\n",
    "             epochs=1000)\n",
    "\n",
    "sentence_embeddings=[[w2v.wv[word][0] for word in words] for words in sentence_tokens]\n",
    "\n",
    "\n",
    "max_len=max([len(tokens) for tokens in sentence_tokens])\n",
    "sentence_embeddings=[np.pad(embedding,(0,max_len-len(embedding)),'constant') for embedding in sentence_embeddings]\n",
    "\n",
    "similarity_matrix = np.zeros([len(sentence_tokens), len(sentence_tokens)])\n",
    "for i,row_embedding in enumerate(sentence_embeddings):\n",
    "    for j,column_embedding in enumerate(sentence_embeddings):\n",
    "        similarity_matrix[i][j]=1-spatial.distance.cosine(row_embedding,column_embedding)\n",
    "        \n",
    "nx_graph = nx.from_numpy_array(similarity_matrix)\n",
    "scores = nx.pagerank(nx_graph)\n",
    "\n",
    "top_sentence={sentence:scores[index] for index,sentence in enumerate(sentences)}\n",
    "top=dict(sorted(top_sentence.items(), key=lambda x: x[1], reverse=True)[:10])\n",
    "ans =[]\n",
    "res = []\n",
    "for sent in sentences:\n",
    "    if sent in top.keys():\n",
    "        i = sentences.index(sent)\n",
    "        res.append(i)\n",
    "        ans.append(df.iloc[i][0])\n",
    "        print(i)\n",
    "        print(sent)\n",
    "        \n",
    "        \n",
    "from pytube import YouTube\n",
    "from moviepy.editor import VideoFileClip\n",
    "import requests\n",
    "import tempfile\n",
    "import os\n",
    "import datetime\n",
    "import time\n",
    "\n",
    "youtube_url = \"https://www.youtube.com/watch?v=g9ZU-SvOiSU\"\n",
    "j=0\n",
    "for i in ans:\n",
    "    \n",
    "    x = time.strptime(i.split(',')[0],'%H:%M:%S')\n",
    "    t = datetime.timedelta(hours=x.tm_hour,minutes=x.tm_min,seconds=x.tm_sec).total_seconds()\n",
    "    print(t)\n",
    "    \n",
    "    yt = YouTube(youtube_url)\n",
    "    yt_stream = yt.streams.get_highest_resolution()\n",
    "\n",
    "        # Set the desired start and end time in seconds\n",
    "    start_time = t\n",
    "    end_time = t+20\n",
    "\n",
    "        # Download video content and save it to a temporary file\n",
    "    response = requests.get(yt_stream.url)\n",
    "    temp_file_path = os.path.join(tempfile.gettempdir(), \"temp_video.mp4\")\n",
    "\n",
    "    with open(temp_file_path, \"wb\") as temp_file:\n",
    "        temp_file.write(response.content)\n",
    "\n",
    "        # Use moviepy to create subclip\n",
    "    name = str(j) + \"output.mp4\"\n",
    "    j=j+1\n",
    "    clip1 = VideoFileClip(temp_file_path).subclip(start_time, end_time)\n",
    "    clip1.write_videofile(name, codec=\"libx264\", audio_codec=\"aac\")\n",
    "\n",
    "    print(\"Video successfully created and saved as output.mp4\")"
   ]
  },
  {
   "cell_type": "code",
   "execution_count": 2,
   "id": "54b76926",
   "metadata": {},
   "outputs": [
    {
     "name": "stdout",
     "output_type": "stream",
     "text": [
      "['00:02:11,000', '00:02:32,000', '00:03:51,000', '00:04:21,000', '00:05:56,000', '00:11:04,000', '00:12:08,000', '00:12:51,000', '00:15:46,000', '00:05:56,000', '00:19:21,000']\n"
     ]
    }
   ],
   "source": [
    "print(ans)"
   ]
  },
  {
   "cell_type": "code",
   "execution_count": 4,
   "id": "34288e0d",
   "metadata": {},
   "outputs": [
    {
     "data": {
      "text/plain": [
       "False"
      ]
     },
     "execution_count": 4,
     "metadata": {},
     "output_type": "execute_result"
    }
   ],
   "source": [
    "import torch\n",
    "torch.cuda.is_available()"
   ]
  },
  {
   "cell_type": "code",
   "execution_count": null,
   "id": "5c3db7fc",
   "metadata": {},
   "outputs": [],
   "source": []
  },
  {
   "cell_type": "code",
   "execution_count": null,
   "id": "a958d237",
   "metadata": {},
   "outputs": [],
   "source": []
  },
  {
   "cell_type": "code",
   "execution_count": null,
   "id": "c612c5a5",
   "metadata": {},
   "outputs": [],
   "source": [
    "From here all is try and error methods"
   ]
  },
  {
   "cell_type": "code",
   "execution_count": 1,
   "id": "c14809c1",
   "metadata": {},
   "outputs": [],
   "source": [
    "from pytube import YouTube\n",
    "import torch\n",
    "import os\n",
    "\n",
    "# Set the device\n",
    "device = \"cuda\" if torch.cuda.is_available() else \"gpu\"\n",
    "\n",
    "def video_to_audio(video_URL, destination, final_filename):\n",
    "\n",
    "  # Get the video\n",
    "  video = YouTube(video_URL)\n",
    "\n",
    "  # Convert video to Audio\n",
    "  audio = video.streams.filter(only_audio=True).first()\n",
    "\n",
    "  # Save to destination\n",
    "  output = audio.download(output_path = destination)\n",
    "\n",
    "  _, ext = os.path.splitext(output)\n",
    "  new_file = final_filename + '.mp3'\n",
    "\n",
    "  # Change the name of the file\n",
    "  os.rename(output, new_file)\n",
    "\n",
    "# Video to audio\n",
    "video_URL = 'https://www.youtube.com/watch?v=L87PAAejHPs'\n",
    "destination = \".\"\n",
    "final_filename = \"motivational_speech2\"\n",
    "video_to_audio(video_URL, destination, final_filename)"
   ]
  },
  {
   "cell_type": "code",
   "execution_count": 2,
   "id": "dc5db828",
   "metadata": {},
   "outputs": [
    {
     "name": "stderr",
     "output_type": "stream",
     "text": [
      "C:\\Users\\Aaditya M Bannore\\AppData\\Local\\Programs\\Python\\Python311\\Lib\\site-packages\\whisper\\transcribe.py:126: UserWarning: FP16 is not supported on CPU; using FP32 instead\n",
      "  warnings.warn(\"FP16 is not supported on CPU; using FP32 instead\")\n"
     ]
    }
   ],
   "source": [
    "import whisper\n",
    "\n",
    "model = whisper.load_model(\"tiny\")\n",
    "result = model.transcribe(\"motivational_speech2.mp3\")"
   ]
  },
  {
   "cell_type": "code",
   "execution_count": 8,
   "id": "18233cdb",
   "metadata": {},
   "outputs": [
    {
     "name": "stdout",
     "output_type": "stream",
     "text": [
      " Basically, 20 smart people go into finance more. So, you know, this is both a compliment and a criticism. We should have, I think, fewer people doing law on fewer people doing finance and more people making stuff. Oh yeah, what's up, Global Citizens? I'm Chagu, your real life, Luis Ekoch. And today we have a great conversation to learn English from with podcasts or Joe Rodin. And the controversial, yet legendary and visionary entrepreneur Elon Musk. But in case your new here, our method is really simple. First, you'll watch the scenes with subtitles. Then we'll teach you some of the most important vocabulary, grammar and pronunciation from the clips. Finally, you will test your listening skills by watching the scenes again with the subtitles. But before we get started, make sure you hit the subscribe button and down below, because every week we put out a new lesson like this to help you understand your favorite movies. TV series and of course podcasts and interviews. Without getting lost, without missing the jokes and without subtitles. So hit the subscribe button in order not to miss a single new lesson. Now let's get started. In this clip, Elon talks about how people often have the wrong idea about them and all their billionaires. Let's see what he has to say. But do you feel like people define you by the fact that you're wealthy? And they define you in a pejorative way? For sure. I mean, not in our own, but for sure, in recent years, billionaire has become a perjar... ...it's like a progarrative. It's like that's a bad thing. I think it doesn't make a lot of sense in most cases. So how does this wealth arise? If you organize people in a better way to produce products and services that are better than what existed before, and you have some ownership in that company, then that essentially gives you the right to allocate more capital. So there's a conflation of consumption and capital allocation. But you feel like people define you by the fact that you're wealthy. If a person has a substantial amount of money and material possessions, this person is wealthy. In other words, this person has a lot of money. And they define you in a pejorative way? Pigeorative is a great word. If you talk about somebody in a pejorative way, you are speaking about that person from a negative perspective. You're not being very kind to that person. A great synonym for pejorative is derogatory. If you are derogatory or speak about someone in a derogatory way, it's the same idea. You are talking about that person negatively. By the way, this reminds me of the classic clip from Rocky II. You know, the Rocky Balboa movies in Rocky II, there is this press conference where I report her as Rocky to comment something derogatory about his opponent, Apollo Creed. But Rocky, in that movie, he's not very educated, so he doesn't really understand what derogatory means. So he's really cool to see the clip because he kind of uses derogatory in a positive way because he doesn't understand what it means. Check it out. Rocky got anything derogatory to say about the champ. Derogatory. Yeah, he's great. For sure, in recent years, billionaire has become a perjard. It's like a perjard. So it's like that's a bad thing. Which I think doesn't make a lot of sense in Rojcases. Great, I'm not that speech here. So we have it doesn't. It doesn't. The tea for it is a stop tea. We say it doesn't. Also the tea for it doesn't also kind of disappears. And then make a, make the a is a shwa sound. The tea for a lot is a flap tea better, which then joins with the. Proposition of, but again, the proposition of is reduced to another shwa sound. So we don't say of, we say, uh, so putting it together, it doesn't make a lot of sense. Which I don't, doesn't make a lot of sense. Which I think doesn't make a lot of sense. So I kind of, how does this world arise? It's to arise means to come into existence or to appear. Here's an example. It's essential to be prepared for any challenges that may arise in the course of this project. Don't forget the conjugation of this verb. We have arise, the base form, a rose, the simple bass form, and a reason that bass participle form. If you organize people in a, in a better way to produce products and services that are better than what exist. And you have some ownership in that company. When you have ownership of something, you own it. It's yours. It belongs to you. In the clip, Musk is talking about when you have shares of companies or stocks. We have parts of companies. They belong to you. Here's an example. I want 90% ownership. 90%. Are you on your mind? No, I'm not. Then that, that essentially gives you the right to allocate more capital. Capital means money. It's a common word when talking about business. Find is any vasting. To allocate capital means to set aside or reserve capital for specific purpose. For example, I always allocate 10% of my monthly income for savings. So it's, there's a conflation of consumption and capital allocation. When you can inflate two things, you believe they are the same by putting them in the same category. But the problem with doing this is that you end up creating confusion. Consumption is the noun for consume. Musk is saying that people usually confuse consumption and capital allocation. In that, if you're making an acquisition, like buying a private property, for example, you're not necessarily buying it for yourself to consume it. You may simply be allocating capital. Transfer me your money into a physical property and that could potentially generate more money in the future. Through rent, for example. I'm sure you've been learning many nice words and expressions today, huh? But let me tell you that if you don't review this vocabulary, you will likely forget it very, very soon. If you want to be able to actually use these words you're learning today, next time you're getting to an English conversation, I have super exciting news to share with you today. You have to check out the Learn English with TV series, Flashcards, on the Real Life English app. This is the newest feature of our Real Life English app, which allows you to unlock intelligent flashcards with definitions and images for the specific lessons you're watching here on the channel. Instead of having to spend a lot of time taking notes of these words, you can review all the vocabulary you're learning today on the app with just a few clicks. Plus, you get to wash this lesson inside the app, so you can transition between watching and practicing more easily. And most importantly, our app's special algorithm will present you with the vocabulary card you're learning at the exact moment you're about to forget it. So you can transfer your learning from your short-term memory to permanently remember the words. Just imagine what it would be like if you can remember all the new words from this lesson and actually use them in our conversations. Imagine how confident you would feel with your English and how people will be impressed by your large vocabulary. Imagine communicating confidently in the meaning in that job interview, in that English task you have to take, or in that conversation with a local while traveling. So what are you waiting for? Start taking your vocabulary to the max level today with the learning English with TV series flashcards. All you need to do is download the real-life English app and follow the instructions so you can unlock this exclusive deck of cards for this lesson. The link will be in the description, click on it, download it and follow the instructions. I'll see you there. Let me say, Quarren Buffet, for example, and to be a totally frank, I'm not as big as fan, but he does like capital allocation. And he reads a lot of sort of annual reports of companies and the only counting and it's pretty boring, really. And he's trying to figure out is, does Coke or Pepsi deserve more capital? I mean, it's kind of a boring job if you ask me. But, you know, it's still a thing that's important to figure out, like which is a company deserving of more or less capital. Should that company grow or expand? Is it making parks and services that are better than others or worse? And, you know, if a company is making compelling parks and services, it should get more capital. And if it's not a ticket less, we'll go out of business. Well, there's a big difference between someone who's making an incredible amount of money, designing and engineering, fantastic products versus someone who's making an incredible amount of money by investing in companies or moving money around the stock market or doing things along those lines. It's a different thing. And to put them all on the same category seems, it's very simple. And as you pointed out, it's an attack vector. Yeah, for sure. Let me say, Kvwarn Buffet, for example. Warn Buffet is an American Bidonare investor. He's perhaps one of the most influential and famous investors of all time. And he has made most of his fortune by allocating capital or investing in companies, in stocks or shares. I'm sorry, it totally frank I'm not as big as fan. But when you are frank, you speak with honesty. Here's an example. I can't remember the last time that invited me to house for a cup of coffee. Even though my wife was godmother, they were all matured. But that's been frank, you know, a lot of my friends should. And to get totally frank, I'm not as big as fan. But this is a nice colloquial phrase. I'm not his biggest fan. He's the same as I don't like him very much. So Elon is saying that he doesn't like Warren Buffet very much. He's not his biggest fan. You can also say, I'm not a big fan of someone or something. For example, I'm not a big fan of musicals. In other words, I don't like musicals very much. And what about the county and it's pretty boring, really. All right, we have the word, a county here. Notice that we have the anti combination there. Usually, especially in American English, that tea goes away. So we pronounce the end instead. So instead of a county, we hear a county. The first a there is a shawt sound by the way. Then what the, what the county and it's done. What the, what the county and it's. It means kind of a worrying job if you ask me. This is a great colloquial way to give you opinion. First, you make or statement. Then you say, if you ask me, for example, this movie is pretty boring if you ask me. In other words, this movie is pretty boring in my opinion. Here's another example. I understand, but what kind of best man would I be if I didn't offer for you to have it here? Pretty shitty one if you ask me. You know, it's still a thing that's important to figure out, like, which it is a company, deserving of more or less capital. When you are deserving of something, you deserve it. You've earned the right to have that. For example, see, so go go grades. You are deserving of some ice cream. In other words, you deserve some ice cream. Notice that to be deserving of, I'm using deserve here as a negative. You are deserving of something. Now, the verb itself is to deserve. So you can say, I deserve this, or you can say, I am deserving of this. If we cut it for companies making compelling parts and services, it should get more capital. If a product or services compelling, it's fascinating. And he gets people interested in it. Another example could be a compelling argument. If an argument is compelling, it is persuasive and effective. You make a compelling argument. Is that it, yes? Yes. If it's not a ticket last, we'll go out of business. If a company goes out of business, it closes or it sees this to exist. Here's an example from the office. And I can't help it look at all of your wonderful beautiful faces and think, how could they do this to us? What? How could they do that? Not nothing. Nothing. Nothing. I didn't say anything. We're going out of business. What? You are kidding me. Well, there's a big difference between someone who's making incredible amount of money. First of all, we say, Anim, an incredible. So the an for an is joined with the I for incredible. And then the T for a mount, remember the NT combination there? The T goes away. I pronounce the an, instead. And then remember, the off-preposition can get reduced to a show sound. So a mount, a mount, put it all together and incredible amount of money. Anim, incredible amount of money. An incredible amount of money. An incredible amount of money. First is someone who's making an incredible amount of money by investing in companies or moving money around the stock marketer doing things on those lines. When you move money around, you allocate money from one place to another, like investing something else. The stock market is the place where you can negotiate by and sell shares or stocks of companies. Nowadays, most of these negotiations happen online. First is someone who's making an incredible amount of money by investing in companies or moving money around the stock marketer doing things on those lines. Along those lines means things of that nature, things like that. For example, I love movies that deal with topics like honor, courage, and things that don't those lines. In other words, and things like that. It's a different thing. And to put them all in the same category seems, it's very simple. And as you pointed out, it's an attack vector. Yeah, for sure. If you're pointing something out in that conversation, you'll mention it. Or bring it to the discussion. And for the cost of one weather station, China gets complete access to our satellite communications. And quite possibly shares them with our adversaries on the Arctic Council, as you pointed out, didn't exactly protest this thing in the first place. All right, a great job. Now it's time for you to watch the clips again this time without subtitles to test your listening skills. Let's see how much you can understand. And also, I'll be asking you a few questions to see if you remember some of the cool things we learned today. All right? Let's get started. But you feel like people define you by the fact that you're wealthy and that they define you in a pejorative way. What is a synonym for pejorative? Compulsory? Durogatory? Expanatory. For sure. I mean, that won't matter, everyone. For sure, in recent years, billionaire has become a pejorative. It's a pejorative. It's like that's a bad thing. Which I think doesn't make a lot of sense in most cases. So how does this wealth arise? If you organize people in a better way to produce products and services that are better than what existed before. And you have some ownership in that company, then that essentially gives you the right to allocate more capital. So there's a conflation of consumption and capital allocation. Let me say, Quarren Buffet, for example, Andrea Tullifranck, I'm not his biggest fan. But he does like capital allocation. And he reads a lot of annual reports of companies and will be counting and it's pretty boring, really. And he's trying to figure out is, does Coke or Pepsi deserve more capital? I mean, it's kind of a boring job if you ask me. But, you know, it's still a thing that's important to figure out, like, which is a company deserving of more or less capital. Should that company grow or expand? Is it making projects and services that are better than others or worse? And you know, if we can't, if a company is making compelling projects and services, it should get more capital. Something compelling is fascinating, attention-grabbing, persuasive. What is another way to say that a company closes or stops working, going to debt, go out of market, go out of business. If it's not a ticket last, we'll go out of business. Well, there's a big difference between someone who's making an incredible amount of money, designing and engineering, fantastic products versus someone who's making an incredible amount of money by investing in companies or moving money around the stock marketer doing things along those lines. It's a different thing, and to put them all on the same category seems, it's very simple. And as you pointed out, it's an attack vector. Yeah, for sure. Alright, and now is time for the comment of the day, and the comment of the day I have right here, it comes from the last and learning English with track that Ethan did recently. And the comment goes, this lesson was amazing. I enjoy watching your videos, they're really fun. Your explanations are awesome and understandable. May I request a lesson with the Netflix series, Carmen Cindy Ago? I love watching the series, but I've been struggling to understand a couple of sentences, sometimes a whole episode. The vocabulary using the series is advanced, and often casual too, so it is spat with a variety of vocabulary and concepts. I love to get a better understanding of this through your explanations. So this comment comes from Besset 1-41, thank you so much for the wonderful comment, and also the suggestion we will definitely take it into consideration. And now I have a question for you guys out there, which podcasts or interviews should we create a lesson on next? Leave a suggestion here in the comment section below of a nice podcast or interview that you want us to create a lesson like this in the future. Okay, I'm looking forward to seeing your suggestions. Guys, great job you've made it until the end of the lesson, you rock. Don't forget to like this video, share this video with a friend who's also learning English, and don't forget to subscribe to the channel, in case you're not subscribed yet. And if you want to keep learning English while having a ton of fun, check out this next lesson. For your information, there's a lot more to Ogerson people think. Example? Example? Okay, um... Ogres are like onions. They stink? Yes. No, they make you cry. No! Oh, you leave mountain to send me all brown stars proud little white hairs. No! Layers! Onions have layers. Ogres have layers. Onions have layers? You get it! We both have layers.\n"
     ]
    }
   ],
   "source": [
    "print(result[\"text\"])"
   ]
  },
  {
   "cell_type": "code",
   "execution_count": 1,
   "id": "f4a818e1",
   "metadata": {},
   "outputs": [
    {
     "name": "stdout",
     "output_type": "stream",
     "text": [
      "Detecting language using up to the first 30 seconds. Use `--language` to specify the language\n",
      "Detected language: English\n",
      "[00:00.000 --> 00:03.000]  Basically, 20 smart people are going to finance more.\n",
      "[00:03.000 --> 00:08.000]  So, you know, this is both a compliment and a criticism.\n",
      "[00:08.000 --> 00:16.000]  We should have, I think, fewer people doing low on fewer people doing finance and more people making stuff.\n",
      "[00:19.000 --> 00:22.000]  Ah, yeah. What's up, Global Citizens?\n",
      "[00:22.000 --> 00:24.000]  I'm Chagu, your real-life fluency coach.\n",
      "[00:24.000 --> 00:27.000]  And today we have a great conversation to learn English from\n",
      "[00:27.000 --> 00:34.000]  with podcast or Joe Rogan, and the controversial yet legendary and visionary entrepreneur Elon Musk.\n",
      "[00:34.000 --> 00:38.000]  But in case you're new here, our method is really simple.\n",
      "[00:38.000 --> 00:41.000]  First, you'll watch the scenes with subtitles.\n",
      "[00:41.000 --> 00:46.000]  Then we'll teach you some of the most important vocabulary, grammar and pronunciation from the clips.\n",
      "[00:46.000 --> 00:52.000]  Finally, you will test your listening skills by watching the scenes again without subtitles.\n",
      "[00:52.000 --> 00:57.000]  But before we get started, make sure you hit that subscribe button and vowel down below, because every week\n",
      "[00:57.000 --> 01:01.000]  we put out a new lesson like this to help you understand your favorite movies.\n",
      "[01:01.000 --> 01:04.000]  TV series and, of course, podcasts and interviews.\n",
      "[01:04.000 --> 01:08.000]  Without getting lost, without missing the jokes and without subtitles.\n",
      "[01:08.000 --> 01:12.000]  So, hit that subscribe button in order not to miss a single new lesson.\n",
      "[01:12.000 --> 01:14.000]  Now let's get started.\n",
      "[01:17.000 --> 01:21.000]  In this clip, Elon talks about how people often have the wrong idea about them.\n",
      "[01:21.000 --> 01:23.000]  And all their billionaires.\n",
      "[01:23.000 --> 01:25.000]  Let's see what he has to say.\n",
      "[01:25.000 --> 01:31.000]  But do you feel like people define you by the fact that you're wealthy?\n",
      "[01:31.000 --> 01:34.000]  And that they define you in a pejorative way?\n",
      "[01:34.000 --> 01:35.000]  For sure.\n",
      "[01:35.000 --> 01:36.000]  I mean, that won't work on your own.\n",
      "[01:36.000 --> 01:42.000]  But for sure, in recent years, billionaire has become a perjard.\n",
      "[01:42.000 --> 01:44.000]  It's in a perjardative.\n",
      "[01:44.000 --> 01:46.000]  It's like that's a bad thing.\n",
      "[01:46.000 --> 01:50.000]  Which I think doesn't make a lot of sense in most cases.\n",
      "[01:50.000 --> 01:53.000]  So, how does this wealth arise?\n",
      "[01:53.000 --> 01:59.000]  If you organize people in a better way to produce products and services\n",
      "[01:59.000 --> 02:02.000]  that are better than what existed before,\n",
      "[02:02.000 --> 02:06.000]  and you have some ownership in that company,\n",
      "[02:06.000 --> 02:11.000]  then that essentially gives you the right to allocate more capital.\n",
      "[02:11.000 --> 02:17.000]  So, there's a conflation of consumption and capital allocation.\n",
      "[02:20.000 --> 02:26.000]  But you feel like people define you by the fact that you're wealthy.\n",
      "[02:26.000 --> 02:30.000]  If a person has a substantial amount of money and material possessions,\n",
      "[02:30.000 --> 02:32.000]  this person is wealthy.\n",
      "[02:32.000 --> 02:36.000]  In other words, this person has a lot of money.\n",
      "[02:36.000 --> 02:38.000]  And that they define you in a pejorative way?\n",
      "[02:38.000 --> 02:40.000]  The pejorative is a great word.\n",
      "[02:40.000 --> 02:43.000]  If you talk about somebody in a pejorative way,\n",
      "[02:43.000 --> 02:46.000]  you are speaking about that person from a negative perspective.\n",
      "[02:46.000 --> 02:48.000]  You're not being very kind to that person.\n",
      "[02:48.000 --> 02:52.000]  A great synonym for pejorative is derogatory.\n",
      "[02:52.000 --> 02:57.000]  If you are derogatory or speak about someone in a derogatory way,\n",
      "[02:57.000 --> 02:58.000]  it's the same idea.\n",
      "[02:58.000 --> 03:01.000]  You are talking about that person negatively.\n",
      "[03:01.000 --> 03:04.000]  By the way, this reminds me of the classic clip from Rocky II.\n",
      "[03:04.000 --> 03:07.000]  You know, the Rocky Balboa movies in Rocky II,\n",
      "[03:07.000 --> 03:12.000]  there is this press conference where I report her as Rocky\n",
      "[03:12.000 --> 03:16.000]  to comment something derogatory about his opponent, Apollo Creed.\n",
      "[03:16.000 --> 03:19.000]  But Rocky, in that movie, he's not very educated,\n",
      "[03:19.000 --> 03:22.000]  so he doesn't really understand what derogatory means.\n",
      "[03:22.000 --> 03:26.000]  So he's really cool to see the clip because he kind of uses derogatory\n",
      "[03:26.000 --> 03:30.000]  in a positive way because he doesn't understand what it means.\n",
      "[03:30.000 --> 03:31.000]  Check it out.\n",
      "[03:31.000 --> 03:34.000]  Rocky got anything derogatory to say about the champ.\n",
      "[03:34.000 --> 03:36.000]  Derogatory.\n",
      "[03:36.000 --> 03:38.000]  Yeah, he's great.\n",
      "[03:38.000 --> 03:44.000]  For sure, in recent years, billionaire has become a pejorative.\n",
      "[03:44.000 --> 03:47.000]  So it's like that's a bad thing.\n",
      "[03:47.000 --> 03:51.000]  Which I think doesn't make a lot of sense in roast cases.\n",
      "[03:51.000 --> 03:53.000]  Great, I'm not the speech here.\n",
      "[03:53.000 --> 03:55.000]  So we have it doesn't.\n",
      "[03:55.000 --> 03:56.000]  It doesn't.\n",
      "[03:56.000 --> 03:58.000]  The tea for it is a stop tea.\n",
      "[03:58.000 --> 03:59.000]  We say it doesn't.\n",
      "[03:59.000 --> 04:01.000]  Also the tea for it doesn't.\n",
      "[04:01.000 --> 04:02.000]  Also kind of disappears.\n",
      "[04:02.000 --> 04:05.000]  And then make a maker.\n",
      "[04:05.000 --> 04:07.000]  The a is a shwa sound.\n",
      "[04:07.000 --> 04:11.000]  The tea for a lot is a flap tea better.\n",
      "[04:11.000 --> 04:14.000]  Which then joins with the proposition of.\n",
      "[04:14.000 --> 04:18.000]  But again, the proposition of is reduced to another shwa sound.\n",
      "[04:18.000 --> 04:19.000]  So we don't say of.\n",
      "[04:19.000 --> 04:21.000]  We say so putting it together.\n",
      "[04:21.000 --> 04:23.000]  It doesn't make a lot of sense.\n",
      "[04:23.000 --> 04:27.000]  Which I think doesn't make a lot of sense.\n",
      "[04:27.000 --> 04:36.000]  Which I think doesn't make a lot of sense.\n",
      "[04:36.000 --> 04:39.000]  So like how does this wealth arise?\n",
      "[04:39.000 --> 04:43.000]  It's to arise means to come into existence or to appear.\n",
      "[04:43.000 --> 04:44.000]  Here's an example.\n",
      "[04:44.000 --> 04:50.000]  It's essential to be prepared for any challenges that may arise in the course of this project.\n",
      "[04:50.000 --> 04:52.000]  Don't forget the conjugation of this verb.\n",
      "[04:52.000 --> 04:54.000]  We have a rise.\n",
      "[04:54.000 --> 04:55.000]  The base form.\n",
      "[04:55.000 --> 04:56.000]  A rose.\n",
      "[04:56.000 --> 04:58.000]  The simple bass form.\n",
      "[04:58.000 --> 04:59.000]  And a reason.\n",
      "[04:59.000 --> 05:01.000]  The bass participle form.\n",
      "[05:01.000 --> 05:05.000]  If you organize people in a better way.\n",
      "[05:05.000 --> 05:10.000]  To produce products and services that are better than what existed before.\n",
      "[05:10.000 --> 05:14.000]  And you have some ownership in that company.\n",
      "[05:14.000 --> 05:17.000]  When you have ownership of something, you own it.\n",
      "[05:17.000 --> 05:18.000]  It's yours.\n",
      "[05:18.000 --> 05:19.000]  It belongs to you.\n",
      "[05:19.000 --> 05:24.000]  In the clip, Musk is talking about when you have shares of companies or stocks.\n",
      "[05:24.000 --> 05:25.000]  You have parts of companies.\n",
      "[05:25.000 --> 05:26.000]  They belong to you.\n",
      "[05:26.000 --> 05:27.000]  Here's an example.\n",
      "[05:27.000 --> 05:30.000]  I want 90% ownership.\n",
      "[05:30.000 --> 05:31.000]  90%.\n",
      "[05:31.000 --> 05:33.000]  Are you going to your mind?\n",
      "[05:33.000 --> 05:34.000]  No, I'm not.\n",
      "[05:34.000 --> 05:39.000]  Then that essentially gives you the right to allocate more capital.\n",
      "[05:39.000 --> 05:41.000]  Capital means money.\n",
      "[05:41.000 --> 05:43.000]  It's a common word when talking about business.\n",
      "[05:43.000 --> 05:45.000]  Finance and investing.\n",
      "[05:45.000 --> 05:51.000]  To allocate capital means to set aside or reserve capital for specific purpose.\n",
      "[05:51.000 --> 05:56.000]  For example, I always allocate 10% of my monthly income for savings.\n",
      "[05:56.000 --> 06:02.000]  So there's a conflation of consumption and capital allocation.\n",
      "[06:02.000 --> 06:08.000]  When you conflate two things, you believe they are the same by putting them in the same category.\n",
      "[06:08.000 --> 06:12.000]  But the problem with doing this is that you end up creating confusion.\n",
      "[06:12.000 --> 06:15.000]  Consumption is the noun for consume.\n",
      "[06:15.000 --> 06:19.000]  Musk is saying that people usually confuse consumption and capital allocation.\n",
      "[06:19.000 --> 06:24.000]  In that, if you're making an acquisition, like buying a private property for example,\n",
      "[06:24.000 --> 06:28.000]  you're not necessarily buying it for yourself to consume it.\n",
      "[06:28.000 --> 06:30.000]  You may simply be allocating capital.\n",
      "[06:30.000 --> 06:36.000]  Transfer from your money into a physical property and that could potentially generate more money in the future.\n",
      "[06:36.000 --> 06:38.000]  Through rent, for example.\n",
      "[06:38.000 --> 06:42.000]  I'm sure you've been learning many nice words and expressions today, huh?\n",
      "[06:42.000 --> 06:48.000]  But let me tell you that if you don't review this vocabulary, you will likely forget it very, very soon.\n",
      "[06:48.000 --> 06:54.000]  If you want to be able to actually use these words you're learning today, next time you get into a English conversation,\n",
      "[06:54.000 --> 06:57.000]  I have super exciting news to share with you today.\n",
      "[06:57.000 --> 07:03.000]  You have to check out the Learn English with TV series Flashcards on the real-life English app.\n",
      "[07:03.000 --> 07:15.000]  This is the newest feature of our real-life English app, which allows you to unlock intelligent flashcards with definitions and images for the specific lesson you're watching here on the channel.\n",
      "[07:15.000 --> 07:19.000]  Instead of having to spend a lot of time taking notes of these words,\n",
      "[07:19.000 --> 07:25.000]  you can review all the vocabulary you're learning today on the app with just a few clicks.\n",
      "[07:25.000 --> 07:33.000]  Plus, you get to wash this lesson inside the app, so you can transition between watching and practicing more easily.\n",
      "[07:33.000 --> 07:42.000]  And most importantly, our app's special algorithm will present you with the vocabulary card you're learning at the exact moment you're about to forget it.\n",
      "[07:42.000 --> 07:48.000]  So you can transfer your learning from your short-term memory to permanently remember the words.\n",
      "[07:48.000 --> 07:56.000]  Just imagine what it would be like if you can remember all the new words from this lesson and actually use them in our conversations.\n",
      "[07:56.000 --> 08:03.000]  Imagine how confident you would feel with your English and how people would be impressed by your large vocabulary.\n",
      "[08:03.000 --> 08:13.000]  Imagine communicating confidently in that meeting, in that job interview, in that English task you have to take, or in that conversation with a local while traveling.\n",
      "[08:13.000 --> 08:14.000]  So what are you waiting for?\n",
      "[08:14.000 --> 08:21.000]  Start taking your vocabulary to the max level today with the learning English with TV series flashcards.\n",
      "[08:21.000 --> 08:30.000]  All you need to do is download the real-life English app and follow the instructions so you can unlock this exclusive deck of cards for this lesson.\n",
      "[08:30.000 --> 08:34.000]  The link will be in the description, click on it, download it and follow the instructions.\n",
      "[08:34.000 --> 08:39.000]  I'll see you there.\n",
      "[08:39.000 --> 08:49.000]  I'll see you there.\n",
      "[08:49.000 --> 09:17.000]  I'll see you there.\n",
      "[09:17.000 --> 09:27.000]  I'll see you there.\n",
      "[09:28.000 --> 09:42.000]  An incredible amount of money designing and engineering fantastic products versus someone who's making an incredible amount of money by investing in companies or moving money around the stock market or doing things along those lines.\n",
      "[09:42.000 --> 09:50.000]  It's a different thing and to put them all in the same category seems it's very simple and as you pointed out it's an attack vector.\n",
      "[09:50.000 --> 09:54.000]  Yeah, for sure.\n",
      "[09:55.000 --> 10:00.000]  Warren Buffett is an American billionaire investor.\n",
      "[10:00.000 --> 10:14.000]  He's perhaps one of the most influential and famous investors of all time and he has made most of his fortune by allocating capital or investing in companies in stocks or shares.\n",
      "[10:15.000 --> 10:19.000]  When you are frank, you speak with honesty.\n",
      "[10:19.000 --> 10:24.000]  Here's an example.\n",
      "[10:24.000 --> 10:39.000]  This is a nice colloquial phrase.\n",
      "[10:39.000 --> 10:44.000]  I'm not his biggest fan. He's the same as I don't like him very much.\n",
      "[10:44.000 --> 10:49.000]  So Elon is saying that he doesn't like Warren Buffett very much. He's not his biggest fan.\n",
      "[10:49.000 --> 10:54.000]  You can also say I'm not a big fan of someone or something.\n",
      "[10:54.000 --> 11:00.000]  For example, I'm not a big fan of musicals. In other words, I don't like musicals very much.\n",
      "[11:01.000 --> 11:04.000]  Then what will be counting and it's pretty boring, really.\n",
      "[11:04.000 --> 11:06.000]  All right, we have the word accounting here.\n",
      "[11:06.000 --> 11:09.000]  Notice that we have the antique combination there.\n",
      "[11:09.000 --> 11:13.000]  Usually, especially in American English, that tea goes away.\n",
      "[11:13.000 --> 11:15.000]  So we pronounce the end instead.\n",
      "[11:15.000 --> 11:19.000]  So instead of accounting, we hear accounting.\n",
      "[11:19.000 --> 11:22.000]  The first a there is a schwa sound by the way.\n",
      "[11:23.000 --> 11:29.000]  Then what will be counting and it's then what will be counting and it's.\n",
      "[11:35.000 --> 11:37.000]  I mean, it's kind of a worrying job if you ask me.\n",
      "[11:37.000 --> 11:40.000]  This is a great colloquial way to give you opinion.\n",
      "[11:40.000 --> 11:42.000]  First, you make her statement.\n",
      "[11:42.000 --> 11:48.000]  Then you say, if you ask me, for example, this movie is pretty boring if you ask me.\n",
      "[11:48.000 --> 11:52.000]  In other words, this movie is pretty boring in my opinion.\n",
      "[11:52.000 --> 11:54.000]  Here's another example.\n",
      "[11:54.000 --> 11:57.000]  I understand, but what kind of best man would I be if I didn't offer for you to have it here?\n",
      "[11:57.000 --> 11:59.000]  Pretty shitty one if you ask me.\n",
      "[11:59.000 --> 12:02.000]  You know, it's still a thing that's important to figure out.\n",
      "[12:02.000 --> 12:05.000]  Like, which is a company deserving of more or less capital.\n",
      "[12:05.000 --> 12:08.000]  When you are deserving of something, you deserve it.\n",
      "[12:08.000 --> 12:10.000]  You've earned the right to have that.\n",
      "[12:10.000 --> 12:13.000]  For example, see, so go go grades.\n",
      "[12:13.000 --> 12:16.000]  You are deserving of some ice cream.\n",
      "[12:16.000 --> 12:19.000]  In other words, you deserve some ice cream.\n",
      "[12:19.000 --> 12:25.000]  Notice that, to be deserving of, I'm using deserve here as an adjective.\n",
      "[12:25.000 --> 12:27.000]  You are deserving of something.\n",
      "[12:27.000 --> 12:30.000]  Now, the verb itself is to deserve.\n",
      "[12:30.000 --> 12:37.000]  So you can say, I deserve this, or you can say, I am deserving of this.\n",
      "[12:37.000 --> 12:41.000]  If we cut for companies making compelling parts and services, it should get more capital.\n",
      "[12:42.000 --> 12:47.000]  If a prodded or services compelling, it's fascinating and it gets people interested in it.\n",
      "[12:47.000 --> 12:51.000]  Another example could be a compelling argument.\n",
      "[12:51.000 --> 12:56.000]  If an argument is compelling, it is persuasive and effective.\n",
      "[12:57.000 --> 13:00.000]  You make a compelling argument.\n",
      "[13:00.000 --> 13:02.000]  Is that a yes?\n",
      "[13:02.000 --> 13:04.000]  Yes.\n",
      "[13:04.000 --> 13:07.000]  If it's not a chicken last, we'll go out of business.\n",
      "[13:08.000 --> 13:12.000]  If a company goes out of business, it closes or it ceases to exist.\n",
      "[13:12.000 --> 13:14.000]  Here's an example from the office.\n",
      "[13:14.000 --> 13:19.000]  And I can't help but look at all of your wonderful, beautiful faces and think, how could they do this to us?\n",
      "[13:19.000 --> 13:20.000]  What?\n",
      "[13:20.000 --> 13:21.000]  What?\n",
      "[13:21.000 --> 13:23.000]  Not nothing.\n",
      "[13:23.000 --> 13:24.000]  Nothing.\n",
      "[13:24.000 --> 13:25.000]  Nothing.\n",
      "[13:25.000 --> 13:26.000]  I didn't say anything.\n",
      "[13:26.000 --> 13:28.000]  We're going out of business.\n",
      "[13:28.000 --> 13:29.000]  What?\n",
      "[13:29.000 --> 13:30.000]  You are kidding me.\n",
      "[13:30.000 --> 13:35.000]  Well, there's a big difference between someone who's making an incredible amount of money.\n",
      "[13:35.000 --> 13:38.000]  First of all, we say ending.\n",
      "[13:38.000 --> 13:39.000]  An incredible.\n",
      "[13:39.000 --> 13:43.000]  So the end for end is joined with the eye for incredible.\n",
      "[13:43.000 --> 13:45.000]  And then the T for a mount.\n",
      "[13:45.000 --> 13:48.000]  Remember the N T combination there?\n",
      "[13:48.000 --> 13:49.000]  The T goes away.\n",
      "[13:49.000 --> 13:51.000]  I pronounce the ending stead.\n",
      "[13:51.000 --> 13:55.000]  And then remember, the off-preposition can get reduced to a schwa sound.\n",
      "[13:55.000 --> 13:57.000]  So a mount.\n",
      "[13:57.000 --> 13:58.000]  A mount.\n",
      "[13:58.000 --> 14:00.000]  Putting it all together.\n",
      "[14:00.000 --> 14:02.000]  An incredible amount of money.\n",
      "[14:02.000 --> 14:05.000]  An incredible amount of money.\n",
      "[14:05.000 --> 14:08.000]  An incredible amount of money.\n",
      "[14:08.000 --> 14:10.000]  An incredible amount of money.\n",
      "[14:16.000 --> 14:24.000]  First is someone who's making an incredible amount of money by investing in companies or moving money around the stock marketer.\n",
      "[14:24.000 --> 14:26.000]  Doing things along those lines.\n",
      "[14:26.000 --> 14:30.000]  When you move money around, you allocate money from one place to another,\n",
      "[14:30.000 --> 14:32.000]  like investing something else.\n",
      "[14:32.000 --> 14:38.000]  The stock market is the place where you can negotiate by and sell shares or stocks of companies.\n",
      "[14:38.000 --> 14:41.000]  Nowadays, most of these negotiations happen online.\n",
      "[14:41.000 --> 14:49.000]  First is someone who's making an incredible amount of money by investing in companies or moving money around the stock marketer.\n",
      "[14:49.000 --> 14:51.000]  Doing things along those lines.\n",
      "[14:51.000 --> 14:54.000]  Along those lines means things of that nature.\n",
      "[14:54.000 --> 14:55.000]  Things like that.\n",
      "[14:55.000 --> 14:59.000]  For example, I love movies that deal with topics like honor, courage.\n",
      "[14:59.000 --> 15:02.000]  And things that don't those lines.\n",
      "[15:02.000 --> 15:05.000]  You know, the words and things like that.\n",
      "[15:05.000 --> 15:06.000]  It's a different thing.\n",
      "[15:06.000 --> 15:10.000]  And to put them all on the same category seems it's very simple.\n",
      "[15:10.000 --> 15:13.000]  And as you pointed out, it's an attack vector.\n",
      "[15:13.000 --> 15:14.000]  Yeah, for sure.\n",
      "[15:14.000 --> 15:17.000]  If you're pointing something out in that conversation, you'll mention it.\n",
      "[15:17.000 --> 15:19.000]  Or bring it to the discussion.\n",
      "[15:19.000 --> 15:22.000]  And for the cost of one weather station, China gets,\n",
      "[15:22.000 --> 15:24.000]  complete access to our satellite communications.\n",
      "[15:25.000 --> 15:29.000]  And quite possibly shares them with our adversaries on the Arctic Council.\n",
      "[15:29.000 --> 15:33.000]  As you pointed out, didn't exactly protest this thing in the first place.\n",
      "[15:33.000 --> 15:35.000]  Alright, great job.\n",
      "[15:35.000 --> 15:41.000]  Now it's time for you to watch the clips again this time without subtitles to test your listening skills.\n",
      "[15:41.000 --> 15:43.000]  Let's see how much you can understand.\n",
      "[15:43.000 --> 15:46.000]  And also, I'll be asking you a few questions to see if you remember.\n",
      "[15:46.000 --> 15:48.000]  Some of the cool things we learned today.\n",
      "[15:48.000 --> 15:50.000]  Alright, let's get started.\n",
      "[15:50.000 --> 15:59.000]  But you feel like people define you by the fact that you're wealthy.\n",
      "[15:59.000 --> 16:02.000]  And that they define you in a pejorative way.\n",
      "[16:02.000 --> 16:04.000]  What is a synonym for pejorative?\n",
      "[16:04.000 --> 16:06.000]  Compulsory?\n",
      "[16:06.000 --> 16:08.000]  Durogatory?\n",
      "[16:08.000 --> 16:09.000]  Expanatory.\n",
      "[16:15.000 --> 16:16.000]  For sure.\n",
      "[16:16.000 --> 16:17.000]  I mean, that won't matter.\n",
      "[16:17.000 --> 16:23.000]  For sure, in recent years, billionaire has become a pejorative.\n",
      "[16:23.000 --> 16:25.000]  It's a pejorative.\n",
      "[16:25.000 --> 16:27.000]  It's like that's a bad thing.\n",
      "[16:27.000 --> 16:31.000]  Which I think doesn't make a lot of sense in most cases.\n",
      "[16:31.000 --> 16:33.000]  So how does this wealth arise?\n",
      "[16:33.000 --> 16:43.000]  It's if you organize people in a better way to produce products and services that are better than what existed before.\n",
      "[16:43.000 --> 16:47.000]  And you have some ownership in that company.\n",
      "[16:47.000 --> 16:52.000]  Then that essentially gives you the right to allocate more capital.\n",
      "[16:52.000 --> 16:57.000]  So there's a conflation of consumption and capital allocation.\n",
      "[16:57.000 --> 17:00.000]  Let me say, Quarren Buffet, for example.\n",
      "[17:00.000 --> 17:02.000]  And to be a totally frank, I'm not his biggest fan.\n",
      "[17:02.000 --> 17:05.000]  But he does like capital allocation.\n",
      "[17:05.000 --> 17:10.000]  And he reads a lot of annual reports of companies and will be counting.\n",
      "[17:10.000 --> 17:12.000]  And it's pretty boring, really.\n",
      "[17:12.000 --> 17:18.000]  And he's trying to figure out is, does Coke or Pepsi deserve more capital?\n",
      "[17:18.000 --> 17:21.000]  I mean, it's kind of a boring job if you ask me.\n",
      "[17:21.000 --> 17:25.000]  But it's still a thing that's important to figure out,\n",
      "[17:25.000 --> 17:28.000]  which is a company deserving of more or less capital.\n",
      "[17:28.000 --> 17:30.000]  Should that company grow or expand?\n",
      "[17:30.000 --> 17:35.000]  Is it making products and services that are better than others or worse?\n",
      "[17:35.000 --> 17:40.000]  Should, you know, if a company is making compelling products and services,\n",
      "[17:40.000 --> 17:42.000]  it should get more capital.\n",
      "[17:42.000 --> 17:48.000]  Something compelling is fascinating, attention grabbing, persuasive.\n",
      "[17:54.000 --> 17:59.000]  What is another way to say that a company closes or stops working,\n",
      "[17:59.000 --> 18:03.000]  going to debt, go out of market, go out of business.\n",
      "[18:05.000 --> 18:11.000]  If it's not a ticket last, we'll go out of business.\n",
      "[18:11.000 --> 18:17.000]  Well, there's a big difference between someone who's making an incredible amount of money,\n",
      "[18:17.000 --> 18:24.000]  designing and engineering fantastic products versus someone who's making an incredible amount of money\n",
      "[18:24.000 --> 18:30.000]  by investing in companies or moving money around the stock market or doing things along those lines.\n",
      "[18:30.000 --> 18:31.000]  It's a different thing.\n",
      "[18:31.000 --> 18:35.000]  And to put them all on the same category seems, it's very simple.\n",
      "[18:35.000 --> 18:38.000]  And as you pointed out, it's an attack vector.\n",
      "[18:38.000 --> 18:40.000]  Yeah, for sure.\n",
      "[18:40.000 --> 18:44.000]  Alright, and now is time for the comment of the day and the comment of the day I have\n",
      "[18:44.000 --> 18:49.000]  right here, it comes from the last and learning English with track that Ethan did recently.\n",
      "[18:49.000 --> 18:52.000]  And the comment goes, this lesson was amazing.\n",
      "[18:52.000 --> 18:55.000]  I enjoy watching your videos, they're really fun.\n",
      "[18:55.000 --> 18:58.000]  Your explanations are awesome and understandable.\n",
      "[18:58.000 --> 19:02.000]  May I request a lesson with the Netflix series, Carmen Sindiego?\n",
      "[19:02.000 --> 19:07.000]  I love watching the series, but I've been struggling to understand a couple of sentences,\n",
      "[19:07.000 --> 19:09.000]  sometimes a whole episode.\n",
      "[19:09.000 --> 19:13.000]  The vocabulary using the series is advanced and often casual too,\n",
      "[19:13.000 --> 19:17.000]  so it is spat with a variety of vocabulary and concepts.\n",
      "[19:17.000 --> 19:21.000]  I love to get a better understanding of this through your explanations.\n",
      "[19:21.000 --> 19:24.000]  So this comment comes from BASSA, 1-31,\n",
      "[19:24.000 --> 19:27.000]  thank you so much for the wonderful comment and also the suggestion.\n",
      "[19:27.000 --> 19:29.000]  We will definitely take it into consideration.\n",
      "[19:29.000 --> 19:32.000]  And now I have a question for you guys out there,\n",
      "[19:32.000 --> 19:37.000]  which podcasts or interviews should we create a lesson on next.\n",
      "[19:37.000 --> 19:40.000]  Leave a suggestion here in the comment section below of a nice podcast\n",
      "[19:40.000 --> 19:44.000]  or interview that you want us to create a lesson like this in the future.\n",
      "[19:44.000 --> 19:47.000]  Okay, I'm looking forward to seeing your suggestions.\n",
      "[19:47.000 --> 19:51.000]  Guys, great job, you've made it until the end of the lesson, you rock.\n",
      "[19:52.000 --> 19:56.000]  Don't forget to like this video, share this video with a friend who's also learning English,\n",
      "[19:56.000 --> 20:01.000]  and don't forget to subscribe to the channel, in case you're not subscribed yet.\n",
      "[20:01.000 --> 20:04.000]  And if you want to keep learning English while having a ton of fun,\n",
      "[20:04.000 --> 20:06.000]  check out this next lesson.\n",
      "[20:06.000 --> 20:09.000]  For your information, there's a lot more to ogres than people think.\n",
      "[20:09.000 --> 20:11.000]  Example?\n",
      "[20:11.000 --> 20:12.000]  Example?\n",
      "[20:12.000 --> 20:14.000]  Okay, um...\n",
      "[20:14.000 --> 20:17.000]  ogres are like onions.\n",
      "[20:17.000 --> 20:18.000]  Please stand?\n",
      "[20:18.000 --> 20:19.000]  Yes.\n",
      "[20:19.000 --> 20:20.000]  No.\n",
      "[20:20.000 --> 20:21.000]  No!\n",
      "[20:21.000 --> 20:24.000]  Oh, you leave me out in the sun to get all brown spots proud of little white hairs.\n",
      "[20:24.000 --> 20:25.000]  No!\n",
      "[20:25.000 --> 20:26.000]  Layers!\n",
      "[20:26.000 --> 20:29.000]  Onions have layers.\n",
      "[20:29.000 --> 20:32.000]  Oh, girls have layers. Onions have layers?\n",
      "[20:32.000 --> 20:33.000]  You get it.\n",
      "[20:33.000 --> 20:34.000]  We both have layers.\n"
     ]
    },
    {
     "name": "stderr",
     "output_type": "stream",
     "text": [
      "C:\\Users\\Aaditya M Bannore\\AppData\\Local\\Programs\\Python\\Python311\\Lib\\site-packages\\whisper\\transcribe.py:126: UserWarning: FP16 is not supported on CPU; using FP32 instead\n",
      "  warnings.warn(\"FP16 is not supported on CPU; using FP32 instead\")\n"
     ]
    }
   ],
   "source": [
    "!whisper motivational_speech2.mp3 --model tiny"
   ]
  },
  {
   "cell_type": "code",
   "execution_count": 18,
   "id": "ec853ea2",
   "metadata": {},
   "outputs": [],
   "source": [
    "import os\n",
    "import re\n",
    "\n",
    "with open('D:\\Aaditya\\ML_project\\sypker\\motivational_speech2.srt', 'r') as h:\n",
    "    sub = h.readlines()\n",
    "\n",
    "re_pattern = r'[0-9]{2}:[0-9]{2}:[0-9]{2},[0-9]{3} -->'\n",
    "regex = re.compile(re_pattern)\n",
    "# Get start times\n",
    "start_times = list(filter(regex.search, sub))\n",
    "start_times = [time.split(' ')[0] for time in start_times]\n",
    "# Get lines\n",
    "lines = [[]]\n",
    "for sentence in sub:\n",
    "    if re.match(re_pattern, sentence):\n",
    "        lines[-1].pop()\n",
    "        lines.append([])\n",
    "    else:\n",
    "        lines[-1].append(sentence)\n",
    "lines = lines[1:]\n",
    "\n",
    "# Merge results\n",
    "subs = {start_time:line for start_time,line in zip(start_times, lines)}"
   ]
  },
  {
   "cell_type": "code",
   "execution_count": 19,
   "id": "cbc3c5e1",
   "metadata": {},
   "outputs": [],
   "source": [
    "import pandas as pd\n",
    "#9\n",
    "\n",
    "df = pd.DataFrame.from_dict(subs)\n",
    "\n",
    "df = df.transpose()\n",
    "df\n",
    "\n",
    "df.to_csv('output4.csv', encoding = 'utf-8-sig')"
   ]
  },
  {
   "cell_type": "code",
   "execution_count": 22,
   "id": "3ce8ba99",
   "metadata": {},
   "outputs": [
    {
     "data": {
      "text/html": [
       "<div>\n",
       "<style scoped>\n",
       "    .dataframe tbody tr th:only-of-type {\n",
       "        vertical-align: middle;\n",
       "    }\n",
       "\n",
       "    .dataframe tbody tr th {\n",
       "        vertical-align: top;\n",
       "    }\n",
       "\n",
       "    .dataframe thead th {\n",
       "        text-align: right;\n",
       "    }\n",
       "</style>\n",
       "<table border=\"1\" class=\"dataframe\">\n",
       "  <thead>\n",
       "    <tr style=\"text-align: right;\">\n",
       "      <th></th>\n",
       "      <th>Unnamed: 0</th>\n",
       "      <th>0</th>\n",
       "      <th>1</th>\n",
       "    </tr>\n",
       "  </thead>\n",
       "  <tbody>\n",
       "    <tr>\n",
       "      <th>0</th>\n",
       "      <td>00:00:00,000</td>\n",
       "      <td>Basically, 20 smart people are going to financ...</td>\n",
       "      <td>\\n</td>\n",
       "    </tr>\n",
       "    <tr>\n",
       "      <th>1</th>\n",
       "      <td>00:00:03,000</td>\n",
       "      <td>So, you know, this is both a compliment and a ...</td>\n",
       "      <td>\\n</td>\n",
       "    </tr>\n",
       "    <tr>\n",
       "      <th>2</th>\n",
       "      <td>00:00:08,000</td>\n",
       "      <td>We should have, I think, fewer people doing lo...</td>\n",
       "      <td>\\n</td>\n",
       "    </tr>\n",
       "    <tr>\n",
       "      <th>3</th>\n",
       "      <td>00:00:19,000</td>\n",
       "      <td>Ah, yeah. What's up, Global Citizens?\\n</td>\n",
       "      <td>\\n</td>\n",
       "    </tr>\n",
       "    <tr>\n",
       "      <th>4</th>\n",
       "      <td>00:00:22,000</td>\n",
       "      <td>I'm Chagu, your real-life fluency coach.\\n</td>\n",
       "      <td>\\n</td>\n",
       "    </tr>\n",
       "  </tbody>\n",
       "</table>\n",
       "</div>"
      ],
      "text/plain": [
       "     Unnamed: 0                                                  0   1\n",
       "0  00:00:00,000  Basically, 20 smart people are going to financ...  \\n\n",
       "1  00:00:03,000  So, you know, this is both a compliment and a ...  \\n\n",
       "2  00:00:08,000  We should have, I think, fewer people doing lo...  \\n\n",
       "3  00:00:19,000            Ah, yeah. What's up, Global Citizens?\\n  \\n\n",
       "4  00:00:22,000         I'm Chagu, your real-life fluency coach.\\n  \\n"
      ]
     },
     "execution_count": 22,
     "metadata": {},
     "output_type": "execute_result"
    }
   ],
   "source": [
    "#df = pd.read_csv('D:\\Aaditya\\ML_project\\sypker\\motivational_speech2.srt\\output4.csv')\n",
    "df = pd.read_csv('output4.csv')\n",
    "df.head()"
   ]
  },
  {
   "cell_type": "code",
   "execution_count": 23,
   "id": "b9aa4a78",
   "metadata": {},
   "outputs": [
    {
     "data": {
      "text/html": [
       "<div>\n",
       "<style scoped>\n",
       "    .dataframe tbody tr th:only-of-type {\n",
       "        vertical-align: middle;\n",
       "    }\n",
       "\n",
       "    .dataframe tbody tr th {\n",
       "        vertical-align: top;\n",
       "    }\n",
       "\n",
       "    .dataframe thead th {\n",
       "        text-align: right;\n",
       "    }\n",
       "</style>\n",
       "<table border=\"1\" class=\"dataframe\">\n",
       "  <thead>\n",
       "    <tr style=\"text-align: right;\">\n",
       "      <th></th>\n",
       "      <th>time</th>\n",
       "      <th>text</th>\n",
       "      <th>end</th>\n",
       "    </tr>\n",
       "  </thead>\n",
       "  <tbody>\n",
       "    <tr>\n",
       "      <th>0</th>\n",
       "      <td>00:00:00,000</td>\n",
       "      <td>Basically, 20 smart people are going to financ...</td>\n",
       "      <td>\\n</td>\n",
       "    </tr>\n",
       "    <tr>\n",
       "      <th>1</th>\n",
       "      <td>00:00:03,000</td>\n",
       "      <td>So, you know, this is both a compliment and a ...</td>\n",
       "      <td>\\n</td>\n",
       "    </tr>\n",
       "    <tr>\n",
       "      <th>2</th>\n",
       "      <td>00:00:08,000</td>\n",
       "      <td>We should have, I think, fewer people doing lo...</td>\n",
       "      <td>\\n</td>\n",
       "    </tr>\n",
       "    <tr>\n",
       "      <th>3</th>\n",
       "      <td>00:00:19,000</td>\n",
       "      <td>Ah, yeah. What's up, Global Citizens?\\n</td>\n",
       "      <td>\\n</td>\n",
       "    </tr>\n",
       "    <tr>\n",
       "      <th>4</th>\n",
       "      <td>00:00:22,000</td>\n",
       "      <td>I'm Chagu, your real-life fluency coach.\\n</td>\n",
       "      <td>\\n</td>\n",
       "    </tr>\n",
       "  </tbody>\n",
       "</table>\n",
       "</div>"
      ],
      "text/plain": [
       "           time                                               text end\n",
       "0  00:00:00,000  Basically, 20 smart people are going to financ...  \\n\n",
       "1  00:00:03,000  So, you know, this is both a compliment and a ...  \\n\n",
       "2  00:00:08,000  We should have, I think, fewer people doing lo...  \\n\n",
       "3  00:00:19,000            Ah, yeah. What's up, Global Citizens?\\n  \\n\n",
       "4  00:00:22,000         I'm Chagu, your real-life fluency coach.\\n  \\n"
      ]
     },
     "execution_count": 23,
     "metadata": {},
     "output_type": "execute_result"
    }
   ],
   "source": [
    "df.columns =['time', 'text','end']\n",
    "\n",
    "df.head()"
   ]
  },
  {
   "cell_type": "code",
   "execution_count": 24,
   "id": "8a7e77f0",
   "metadata": {},
   "outputs": [
    {
     "name": "stdout",
     "output_type": "stream",
     "text": [
      "['Basically, 20 smart people are going to finance more.\\n', 'So, you know, this is both a compliment and a criticism.\\n', 'We should have, I think, fewer people doing low on fewer people doing finance and more people making stuff.\\n', \"Ah, yeah. What's up, Global Citizens?\\n\", \"I'm Chagu, your real-life fluency coach.\\n\", 'And today we have a great conversation to learn English from\\n', 'with podcast or Joe Rogan, and the controversial yet legendary and visionary entrepreneur Elon Musk.\\n', \"But in case you're new here, our method is really simple.\\n\", \"First, you'll watch the scenes with subtitles.\\n\", \"Then we'll teach you some of the most important vocabulary, grammar and pronunciation from the clips.\\n\", 'Finally, you will test your listening skills by watching the scenes again without subtitles.\\n', 'But before we get started, make sure you hit that subscribe button and vowel down below, because every week\\n', 'we put out a new lesson like this to help you understand your favorite movies.\\n', 'TV series and, of course, podcasts and interviews.\\n', 'Without getting lost, without missing the jokes and without subtitles.\\n', 'So, hit that subscribe button in order not to miss a single new lesson.\\n', \"Now let's get started.\\n\", 'In this clip, Elon talks about how people often have the wrong idea about them.\\n', 'And all their billionaires.\\n', \"Let's see what he has to say.\\n\", \"But do you feel like people define you by the fact that you're wealthy?\\n\", 'And that they define you in a pejorative way?\\n', 'For sure.\\n', \"I mean, that won't work on your own.\\n\", 'But for sure, in recent years, billionaire has become a perjard.\\n', \"It's in a perjardative.\\n\", \"It's like that's a bad thing.\\n\", \"Which I think doesn't make a lot of sense in most cases.\\n\", 'So, how does this wealth arise?\\n', 'If you organize people in a better way to produce products and services\\n', 'that are better than what existed before,\\n', 'and you have some ownership in that company,\\n', 'then that essentially gives you the right to allocate more capital.\\n', \"So, there's a conflation of consumption and capital allocation.\\n\", \"But you feel like people define you by the fact that you're wealthy.\\n\", 'If a person has a substantial amount of money and material possessions,\\n', 'this person is wealthy.\\n', 'In other words, this person has a lot of money.\\n', 'And that they define you in a pejorative way?\\n', 'The pejorative is a great word.\\n', 'If you talk about somebody in a pejorative way,\\n', 'you are speaking about that person from a negative perspective.\\n', \"You're not being very kind to that person.\\n\", 'A great synonym for pejorative is derogatory.\\n', 'If you are derogatory or speak about someone in a derogatory way,\\n', \"it's the same idea.\\n\", 'You are talking about that person negatively.\\n', 'By the way, this reminds me of the classic clip from Rocky II.\\n', 'You know, the Rocky Balboa movies in Rocky II,\\n', 'there is this press conference where I report her as Rocky\\n', 'to comment something derogatory about his opponent, Apollo Creed.\\n', \"But Rocky, in that movie, he's not very educated,\\n\", \"so he doesn't really understand what derogatory means.\\n\", \"So he's really cool to see the clip because he kind of uses derogatory\\n\", \"in a positive way because he doesn't understand what it means.\\n\", 'Check it out.\\n', 'Rocky got anything derogatory to say about the champ.\\n', 'Derogatory.\\n', \"Yeah, he's great.\\n\", 'For sure, in recent years, billionaire has become a pejorative.\\n', \"So it's like that's a bad thing.\\n\", \"Which I think doesn't make a lot of sense in roast cases.\\n\", \"Great, I'm not the speech here.\\n\", \"So we have it doesn't.\\n\", \"It doesn't.\\n\", 'The tea for it is a stop tea.\\n', \"We say it doesn't.\\n\", \"Also the tea for it doesn't.\\n\", 'Also kind of disappears.\\n', 'And then make a maker.\\n', 'The a is a shwa sound.\\n', 'The tea for a lot is a flap tea better.\\n', 'Which then joins with the proposition of.\\n', 'But again, the proposition of is reduced to another shwa sound.\\n', \"So we don't say of.\\n\", 'We say so putting it together.\\n', \"It doesn't make a lot of sense.\\n\", \"Which I think doesn't make a lot of sense.\\n\", \"Which I think doesn't make a lot of sense.\\n\", 'So like how does this wealth arise?\\n', \"It's to arise means to come into existence or to appear.\\n\", \"Here's an example.\\n\", \"It's essential to be prepared for any challenges that may arise in the course of this project.\\n\", \"Don't forget the conjugation of this verb.\\n\", 'We have a rise.\\n', 'The base form.\\n', 'A rose.\\n', 'The simple bass form.\\n', 'And a reason.\\n', 'The bass participle form.\\n', 'If you organize people in a better way.\\n', 'To produce products and services that are better than what existed before.\\n', 'And you have some ownership in that company.\\n', 'When you have ownership of something, you own it.\\n', \"It's yours.\\n\", 'It belongs to you.\\n', 'In the clip, Musk is talking about when you have shares of companies or stocks.\\n', 'You have parts of companies.\\n', 'They belong to you.\\n', \"Here's an example.\\n\", 'I want 90% ownership.\\n', '90%.\\n', 'Are you going to your mind?\\n', \"No, I'm not.\\n\", 'Then that essentially gives you the right to allocate more capital.\\n', 'Capital means money.\\n', \"It's a common word when talking about business.\\n\", 'Finance and investing.\\n', 'To allocate capital means to set aside or reserve capital for specific purpose.\\n', 'For example, I always allocate 10% of my monthly income for savings.\\n', \"So there's a conflation of consumption and capital allocation.\\n\", 'When you conflate two things, you believe they are the same by putting them in the same category.\\n', 'But the problem with doing this is that you end up creating confusion.\\n', 'Consumption is the noun for consume.\\n', 'Musk is saying that people usually confuse consumption and capital allocation.\\n', \"In that, if you're making an acquisition, like buying a private property for example,\\n\", \"you're not necessarily buying it for yourself to consume it.\\n\", 'You may simply be allocating capital.\\n', 'Transfer from your money into a physical property and that could potentially generate more money in the future.\\n', 'Through rent, for example.\\n', \"I'm sure you've been learning many nice words and expressions today, huh?\\n\", \"But let me tell you that if you don't review this vocabulary, you will likely forget it very, very soon.\\n\", \"If you want to be able to actually use these words you're learning today, next time you get into a English conversation,\\n\", 'I have super exciting news to share with you today.\\n', 'You have to check out the Learn English with TV series Flashcards on the real-life English app.\\n', \"This is the newest feature of our real-life English app, which allows you to unlock intelligent flashcards with definitions and images for the specific lesson you're watching here on the channel.\\n\", 'Instead of having to spend a lot of time taking notes of these words,\\n', \"you can review all the vocabulary you're learning today on the app with just a few clicks.\\n\", 'Plus, you get to wash this lesson inside the app, so you can transition between watching and practicing more easily.\\n', \"And most importantly, our app's special algorithm will present you with the vocabulary card you're learning at the exact moment you're about to forget it.\\n\", 'So you can transfer your learning from your short-term memory to permanently remember the words.\\n', 'Just imagine what it would be like if you can remember all the new words from this lesson and actually use them in our conversations.\\n', 'Imagine how confident you would feel with your English and how people would be impressed by your large vocabulary.\\n', 'Imagine communicating confidently in that meeting, in that job interview, in that English task you have to take, or in that conversation with a local while traveling.\\n', 'So what are you waiting for?\\n', 'Start taking your vocabulary to the max level today with the learning English with TV series flashcards.\\n', 'All you need to do is download the real-life English app and follow the instructions so you can unlock this exclusive deck of cards for this lesson.\\n', 'The link will be in the description, click on it, download it and follow the instructions.\\n', \"I'll see you there.\\n\", \"I'll see you there.\\n\", \"I'll see you there.\\n\", \"I'll see you there.\\n\", \"An incredible amount of money designing and engineering fantastic products versus someone who's making an incredible amount of money by investing in companies or moving money around the stock market or doing things along those lines.\\n\", \"It's a different thing and to put them all in the same category seems it's very simple and as you pointed out it's an attack vector.\\n\", 'Yeah, for sure.\\n', 'Warren Buffett is an American billionaire investor.\\n', \"He's perhaps one of the most influential and famous investors of all time and he has made most of his fortune by allocating capital or investing in companies in stocks or shares.\\n\", 'When you are frank, you speak with honesty.\\n', \"Here's an example.\\n\", 'This is a nice colloquial phrase.\\n', \"I'm not his biggest fan. He's the same as I don't like him very much.\\n\", \"So Elon is saying that he doesn't like Warren Buffett very much. He's not his biggest fan.\\n\", \"You can also say I'm not a big fan of someone or something.\\n\", \"For example, I'm not a big fan of musicals. In other words, I don't like musicals very much.\\n\", \"Then what will be counting and it's pretty boring, really.\\n\", 'All right, we have the word accounting here.\\n', 'Notice that we have the antique combination there.\\n', 'Usually, especially in American English, that tea goes away.\\n', 'So we pronounce the end instead.\\n', 'So instead of accounting, we hear accounting.\\n', 'The first a there is a schwa sound by the way.\\n', \"Then what will be counting and it's then what will be counting and it's.\\n\", \"I mean, it's kind of a worrying job if you ask me.\\n\", 'This is a great colloquial way to give you opinion.\\n', 'First, you make her statement.\\n', 'Then you say, if you ask me, for example, this movie is pretty boring if you ask me.\\n', 'In other words, this movie is pretty boring in my opinion.\\n', \"Here's another example.\\n\", \"I understand, but what kind of best man would I be if I didn't offer for you to have it here?\\n\", 'Pretty shitty one if you ask me.\\n', \"You know, it's still a thing that's important to figure out.\\n\", 'Like, which is a company deserving of more or less capital.\\n', 'When you are deserving of something, you deserve it.\\n', \"You've earned the right to have that.\\n\", 'For example, see, so go go grades.\\n', 'You are deserving of some ice cream.\\n', 'In other words, you deserve some ice cream.\\n', \"Notice that, to be deserving of, I'm using deserve here as an adjective.\\n\", 'You are deserving of something.\\n', 'Now, the verb itself is to deserve.\\n', 'So you can say, I deserve this, or you can say, I am deserving of this.\\n', 'If we cut for companies making compelling parts and services, it should get more capital.\\n', \"If a prodded or services compelling, it's fascinating and it gets people interested in it.\\n\", 'Another example could be a compelling argument.\\n', 'If an argument is compelling, it is persuasive and effective.\\n', 'You make a compelling argument.\\n', 'Is that a yes?\\n', 'Yes.\\n', \"If it's not a chicken last, we'll go out of business.\\n\", 'If a company goes out of business, it closes or it ceases to exist.\\n', \"Here's an example from the office.\\n\", \"And I can't help but look at all of your wonderful, beautiful faces and think, how could they do this to us?\\n\", 'What?\\n', 'What?\\n', 'Not nothing.\\n', 'Nothing.\\n', 'Nothing.\\n', \"I didn't say anything.\\n\", \"We're going out of business.\\n\", 'What?\\n', 'You are kidding me.\\n', \"Well, there's a big difference between someone who's making an incredible amount of money.\\n\", 'First of all, we say ending.\\n', 'An incredible.\\n', 'So the end for end is joined with the eye for incredible.\\n', 'And then the T for a mount.\\n', 'Remember the N T combination there?\\n', 'The T goes away.\\n', 'I pronounce the ending stead.\\n', 'And then remember, the off-preposition can get reduced to a schwa sound.\\n', 'So a mount.\\n', 'A mount.\\n', 'Putting it all together.\\n', 'An incredible amount of money.\\n', 'An incredible amount of money.\\n', 'An incredible amount of money.\\n', 'An incredible amount of money.\\n', \"First is someone who's making an incredible amount of money by investing in companies or moving money around the stock marketer.\\n\", 'Doing things along those lines.\\n', 'When you move money around, you allocate money from one place to another,\\n', 'like investing something else.\\n', 'The stock market is the place where you can negotiate by and sell shares or stocks of companies.\\n', 'Nowadays, most of these negotiations happen online.\\n', \"First is someone who's making an incredible amount of money by investing in companies or moving money around the stock marketer.\\n\", 'Doing things along those lines.\\n', 'Along those lines means things of that nature.\\n', 'Things like that.\\n', 'For example, I love movies that deal with topics like honor, courage.\\n', \"And things that don't those lines.\\n\", 'You know, the words and things like that.\\n', \"It's a different thing.\\n\", \"And to put them all on the same category seems it's very simple.\\n\", \"And as you pointed out, it's an attack vector.\\n\", 'Yeah, for sure.\\n', \"If you're pointing something out in that conversation, you'll mention it.\\n\", 'Or bring it to the discussion.\\n', 'And for the cost of one weather station, China gets,\\n', 'complete access to our satellite communications.\\n', 'And quite possibly shares them with our adversaries on the Arctic Council.\\n', \"As you pointed out, didn't exactly protest this thing in the first place.\\n\", 'Alright, great job.\\n', \"Now it's time for you to watch the clips again this time without subtitles to test your listening skills.\\n\", \"Let's see how much you can understand.\\n\", \"And also, I'll be asking you a few questions to see if you remember.\\n\", 'Some of the cool things we learned today.\\n', \"Alright, let's get started.\\n\", \"But you feel like people define you by the fact that you're wealthy.\\n\", 'And that they define you in a pejorative way.\\n', 'What is a synonym for pejorative?\\n', 'Compulsory?\\n', 'Durogatory?\\n', 'Expanatory.\\n', 'For sure.\\n', \"I mean, that won't matter.\\n\", 'For sure, in recent years, billionaire has become a pejorative.\\n', \"It's a pejorative.\\n\", \"It's like that's a bad thing.\\n\", \"Which I think doesn't make a lot of sense in most cases.\\n\", 'So how does this wealth arise?\\n', \"It's if you organize people in a better way to produce products and services that are better than what existed before.\\n\", 'And you have some ownership in that company.\\n', 'Then that essentially gives you the right to allocate more capital.\\n', \"So there's a conflation of consumption and capital allocation.\\n\", 'Let me say, Quarren Buffet, for example.\\n', \"And to be a totally frank, I'm not his biggest fan.\\n\", 'But he does like capital allocation.\\n', 'And he reads a lot of annual reports of companies and will be counting.\\n', \"And it's pretty boring, really.\\n\", \"And he's trying to figure out is, does Coke or Pepsi deserve more capital?\\n\", \"I mean, it's kind of a boring job if you ask me.\\n\", \"But it's still a thing that's important to figure out,\\n\", 'which is a company deserving of more or less capital.\\n', 'Should that company grow or expand?\\n', 'Is it making products and services that are better than others or worse?\\n', 'Should, you know, if a company is making compelling products and services,\\n', 'it should get more capital.\\n', 'Something compelling is fascinating, attention grabbing, persuasive.\\n', 'What is another way to say that a company closes or stops working,\\n', 'going to debt, go out of market, go out of business.\\n', \"If it's not a ticket last, we'll go out of business.\\n\", \"Well, there's a big difference between someone who's making an incredible amount of money,\\n\", \"designing and engineering fantastic products versus someone who's making an incredible amount of money\\n\", 'by investing in companies or moving money around the stock market or doing things along those lines.\\n', \"It's a different thing.\\n\", \"And to put them all on the same category seems, it's very simple.\\n\", \"And as you pointed out, it's an attack vector.\\n\", 'Yeah, for sure.\\n', 'Alright, and now is time for the comment of the day and the comment of the day I have\\n', 'right here, it comes from the last and learning English with track that Ethan did recently.\\n', 'And the comment goes, this lesson was amazing.\\n', \"I enjoy watching your videos, they're really fun.\\n\", 'Your explanations are awesome and understandable.\\n', 'May I request a lesson with the Netflix series, Carmen Sindiego?\\n', \"I love watching the series, but I've been struggling to understand a couple of sentences,\\n\", 'sometimes a whole episode.\\n', 'The vocabulary using the series is advanced and often casual too,\\n', 'so it is spat with a variety of vocabulary and concepts.\\n', 'I love to get a better understanding of this through your explanations.\\n', 'So this comment comes from BASSA, 1-31,\\n', 'thank you so much for the wonderful comment and also the suggestion.\\n', 'We will definitely take it into consideration.\\n', 'And now I have a question for you guys out there,\\n', 'which podcasts or interviews should we create a lesson on next.\\n', 'Leave a suggestion here in the comment section below of a nice podcast\\n', 'or interview that you want us to create a lesson like this in the future.\\n', \"Okay, I'm looking forward to seeing your suggestions.\\n\", \"Guys, great job, you've made it until the end of the lesson, you rock.\\n\", \"Don't forget to like this video, share this video with a friend who's also learning English,\\n\", \"and don't forget to subscribe to the channel, in case you're not subscribed yet.\\n\", 'And if you want to keep learning English while having a ton of fun,\\n', 'check out this next lesson.\\n', \"For your information, there's a lot more to ogres than people think.\\n\", 'Example?\\n', 'Example?\\n', 'Okay, um...\\n', 'ogres are like onions.\\n', 'Please stand?\\n', 'Yes.\\n', 'No.\\n', 'No!\\n', 'Oh, you leave me out in the sun to get all brown spots proud of little white hairs.\\n', 'No!\\n', 'Layers!\\n', 'Onions have layers.\\n', 'Oh, girls have layers. Onions have layers?\\n', 'You get it.\\n', 'We both have layers.\\n']\n"
     ]
    }
   ],
   "source": [
    "marks_list = df['text'].tolist()\n",
    "\n",
    "# show the list\n",
    "print(marks_list)\n",
    "n = len(marks_list)\n",
    "\n",
    "sentences = marks_list\n",
    "\n",
    "doc = \"\"\n",
    "for i in marks_list:\n",
    "  doc = doc + i;\n"
   ]
  },
  {
   "cell_type": "code",
   "execution_count": 27,
   "id": "fabdd165",
   "metadata": {},
   "outputs": [
    {
     "name": "stderr",
     "output_type": "stream",
     "text": [
      "[nltk_data] Downloading package stopwords to C:\\Users\\Aaditya M\n",
      "[nltk_data]     Bannore\\AppData\\Roaming\\nltk_data...\n",
      "[nltk_data]   Package stopwords is already up-to-date!\n"
     ]
    },
    {
     "data": {
      "text/plain": [
       "True"
      ]
     },
     "execution_count": 27,
     "metadata": {},
     "output_type": "execute_result"
    }
   ],
   "source": [
    "import numpy as np\n",
    "import pandas as pd\n",
    "import nltk\n",
    "import re\n",
    "from nltk.tokenize import sent_tokenize\n",
    "from nltk.corpus import stopwords\n",
    "from gensim.models import Word2Vec\n",
    "from scipy import spatial\n",
    "import networkx as nx\n",
    "\n",
    "nltk.download('stopwords')"
   ]
  },
  {
   "cell_type": "code",
   "execution_count": 28,
   "id": "fd1e49e5",
   "metadata": {},
   "outputs": [
    {
     "name": "stdout",
     "output_type": "stream",
     "text": [
      "33\n",
      "So, there's a conflation of consumption and capital allocation.\n",
      "\n",
      "37\n",
      "In other words, this person has a lot of money.\n",
      "\n",
      "62\n",
      "Great, I'm not the speech here.\n",
      "\n",
      "76\n",
      "It doesn't make a lot of sense.\n",
      "\n",
      "110\n",
      "So there's a conflation of consumption and capital allocation.\n",
      "\n",
      "155\n",
      "All right, we have the word accounting here.\n",
      "\n",
      "173\n",
      "You've earned the right to have that.\n",
      "\n",
      "184\n",
      "If an argument is compelling, it is persuasive and effective.\n",
      "\n",
      "244\n",
      "Some of the cool things we learned today.\n",
      "\n",
      "110\n",
      "So there's a conflation of consumption and capital allocation.\n",
      "\n",
      "298\n",
      "So this comment comes from BASSA, 1-31,\n",
      "\n"
     ]
    }
   ],
   "source": [
    "sentences_clean=[re.sub(r'[^\\w\\s]','',sentence.lower()) for sentence in sentences]\n",
    "stop_words = stopwords.words('english')\n",
    "sentence_tokens=[[words for words in sentence.split(' ') if words not in stop_words] for sentence in sentences_clean]\n",
    "\n",
    "w2v=Word2Vec(sentence_tokens,\n",
    "             vector_size=1,\n",
    "             min_count=1,\n",
    "             epochs=1000)\n",
    "\n",
    "sentence_embeddings=[[w2v.wv[word][0] for word in words] for words in sentence_tokens]\n",
    "\n",
    "\n",
    "max_len=max([len(tokens) for tokens in sentence_tokens])\n",
    "sentence_embeddings=[np.pad(embedding,(0,max_len-len(embedding)),'constant') for embedding in sentence_embeddings]\n",
    "\n",
    "similarity_matrix = np.zeros([len(sentence_tokens), len(sentence_tokens)])\n",
    "for i,row_embedding in enumerate(sentence_embeddings):\n",
    "    for j,column_embedding in enumerate(sentence_embeddings):\n",
    "        similarity_matrix[i][j]=1-spatial.distance.cosine(row_embedding,column_embedding)\n",
    "        \n",
    "nx_graph = nx.from_numpy_array(similarity_matrix)\n",
    "scores = nx.pagerank(nx_graph)\n",
    "\n",
    "top_sentence={sentence:scores[index] for index,sentence in enumerate(sentences)}\n",
    "top=dict(sorted(top_sentence.items(), key=lambda x: x[1], reverse=True)[:10])\n",
    "\n",
    "res = []\n",
    "for sent in sentences:\n",
    "    if sent in top.keys():\n",
    "        i = sentences.index(sent)\n",
    "        res.append(i)\n",
    "        print(i)\n",
    "        print(sent)"
   ]
  },
  {
   "cell_type": "code",
   "execution_count": 30,
   "id": "3082c795",
   "metadata": {},
   "outputs": [
    {
     "data": {
      "text/plain": [
       "time                                         00:02:11,000\n",
       "text    So, there's a conflation of consumption and ca...\n",
       "end                                                    \\n\n",
       "Name: 33, dtype: object"
      ]
     },
     "execution_count": 30,
     "metadata": {},
     "output_type": "execute_result"
    }
   ],
   "source": [
    "df.iloc[33]"
   ]
  },
  {
   "cell_type": "code",
   "execution_count": 31,
   "id": "1c2d20a7",
   "metadata": {},
   "outputs": [
    {
     "name": "stdout",
     "output_type": "stream",
     "text": [
      "[33, 37, 62, 76, 110, 155, 173, 184, 244, 110, 298]\n"
     ]
    }
   ],
   "source": [
    "print(res)"
   ]
  },
  {
   "cell_type": "code",
   "execution_count": 4,
   "id": "5561edb5",
   "metadata": {},
   "outputs": [
    {
     "ename": "NameError",
     "evalue": "name 'res' is not defined",
     "output_type": "error",
     "traceback": [
      "\u001b[1;31m---------------------------------------------------------------------------\u001b[0m",
      "\u001b[1;31mNameError\u001b[0m                                 Traceback (most recent call last)",
      "Cell \u001b[1;32mIn[4], line 2\u001b[0m\n\u001b[0;32m      1\u001b[0m ans \u001b[38;5;241m=\u001b[39m []\n\u001b[1;32m----> 2\u001b[0m \u001b[38;5;28;01mfor\u001b[39;00m i \u001b[38;5;129;01min\u001b[39;00m \u001b[43mres\u001b[49m:\n\u001b[0;32m      3\u001b[0m     ans\u001b[38;5;241m.\u001b[39mappend(df\u001b[38;5;241m.\u001b[39miloc[i][\u001b[38;5;241m0\u001b[39m])\n\u001b[0;32m      6\u001b[0m \u001b[38;5;28mprint\u001b[39m(ans)\n",
      "\u001b[1;31mNameError\u001b[0m: name 'res' is not defined"
     ]
    }
   ],
   "source": [
    "ans = []\n",
    "for i in res:\n",
    "    ans.append(df.iloc[i][0])\n",
    "    \n",
    "    \n",
    "print(ans)"
   ]
  },
  {
   "cell_type": "code",
   "execution_count": null,
   "id": "085cda2e",
   "metadata": {},
   "outputs": [],
   "source": []
  },
  {
   "cell_type": "code",
   "execution_count": null,
   "id": "9d001c78",
   "metadata": {},
   "outputs": [],
   "source": []
  },
  {
   "cell_type": "code",
   "execution_count": null,
   "id": "91f3d4be",
   "metadata": {},
   "outputs": [],
   "source": []
  },
  {
   "cell_type": "code",
   "execution_count": null,
   "id": "c3ab4db7",
   "metadata": {},
   "outputs": [],
   "source": []
  },
  {
   "cell_type": "code",
   "execution_count": null,
   "id": "d5de8de8",
   "metadata": {},
   "outputs": [],
   "source": []
  },
  {
   "cell_type": "code",
   "execution_count": 6,
   "id": "41cd7410",
   "metadata": {},
   "outputs": [
    {
     "name": "stdout",
     "output_type": "stream",
     "text": [
      "Moviepy - Building video output.mp4.\n",
      "MoviePy - Writing audio in outputTEMP_MPY_wvf_snd.mp4\n"
     ]
    },
    {
     "name": "stderr",
     "output_type": "stream",
     "text": [
      "                                                                                                                       \r"
     ]
    },
    {
     "name": "stdout",
     "output_type": "stream",
     "text": [
      "MoviePy - Done.\n",
      "Moviepy - Writing video output.mp4\n",
      "\n"
     ]
    },
    {
     "name": "stderr",
     "output_type": "stream",
     "text": [
      "                                                                                                                       \r"
     ]
    },
    {
     "name": "stdout",
     "output_type": "stream",
     "text": [
      "Moviepy - Done !\n",
      "Moviepy - video ready output.mp4\n",
      "Video successfully created and saved as output.mp4\n"
     ]
    }
   ],
   "source": [
    "from pytube import YouTube\n",
    "from moviepy.editor import VideoFileClip\n",
    "import requests\n",
    "import tempfile\n",
    "import os\n",
    "\n",
    "# YouTube video URL\n",
    "youtube_url = \"https://www.youtube.com/watch?v=L87PAAejHPs\"\n",
    "\n",
    "try:\n",
    "    # Download only a portion of the YouTube video using pytube and requests\n",
    "    yt = YouTube(youtube_url)\n",
    "    yt_stream = yt.streams.get_highest_resolution()\n",
    "\n",
    "    # Set the desired start and end time in seconds\n",
    "    start_time = 2*(60)+11\n",
    "    end_time = start_time+30\n",
    "\n",
    "    # Download video content and save it to a temporary file\n",
    "    response = requests.get(yt_stream.url)\n",
    "    temp_file_path = os.path.join(tempfile.gettempdir(), \"temp_video.mp4\")\n",
    "\n",
    "    with open(temp_file_path, \"wb\") as temp_file:\n",
    "        temp_file.write(response.content)\n",
    "\n",
    "    # Use moviepy to create subclip\n",
    "    clip1 = VideoFileClip(temp_file_path).subclip(start_time, end_time)\n",
    "    clip1.write_videofile(\"output.mp4\", codec=\"libx264\", audio_codec=\"aac\")\n",
    "\n",
    "    print(\"Video successfully created and saved as output.mp4\")\n",
    "except Exception as e:\n",
    "    print(\"An error occurred:\", str(e))\n",
    "#finally:\n",
    "    # Clean up: remove temporary video file\n",
    " #   if os.path.exists(temp_file_path):\n",
    "    #    os.remove(temp_file_path)"
   ]
  },
  {
   "cell_type": "code",
   "execution_count": 3,
   "id": "4c5a6dd3",
   "metadata": {},
   "outputs": [
    {
     "name": "stdout",
     "output_type": "stream",
     "text": [
      "185.0\n",
      "Moviepy - Building video 0output.mp4.\n",
      "MoviePy - Writing audio in 0outputTEMP_MPY_wvf_snd.mp4\n"
     ]
    },
    {
     "name": "stderr",
     "output_type": "stream",
     "text": [
      "                                                                                                                       \r"
     ]
    },
    {
     "name": "stdout",
     "output_type": "stream",
     "text": [
      "MoviePy - Done.\n",
      "Moviepy - Writing video 0output.mp4\n",
      "\n"
     ]
    },
    {
     "name": "stderr",
     "output_type": "stream",
     "text": [
      "                                                                                                                       \r"
     ]
    },
    {
     "name": "stdout",
     "output_type": "stream",
     "text": [
      "Moviepy - Done !\n",
      "Moviepy - video ready 0output.mp4\n",
      "Video successfully created and saved as output.mp4\n",
      "199.0\n",
      "Moviepy - Building video 1output.mp4.\n",
      "MoviePy - Writing audio in 1outputTEMP_MPY_wvf_snd.mp4\n"
     ]
    },
    {
     "name": "stderr",
     "output_type": "stream",
     "text": [
      "                                                                                                                       \r"
     ]
    },
    {
     "name": "stdout",
     "output_type": "stream",
     "text": [
      "MoviePy - Done.\n",
      "Moviepy - Writing video 1output.mp4\n",
      "\n"
     ]
    },
    {
     "name": "stderr",
     "output_type": "stream",
     "text": [
      "                                                                                                                       \r"
     ]
    },
    {
     "name": "stdout",
     "output_type": "stream",
     "text": [
      "Moviepy - Done !\n",
      "Moviepy - video ready 1output.mp4\n",
      "Video successfully created and saved as output.mp4\n",
      "379.0\n",
      "Moviepy - Building video 2output.mp4.\n",
      "MoviePy - Writing audio in 2outputTEMP_MPY_wvf_snd.mp4\n"
     ]
    },
    {
     "name": "stderr",
     "output_type": "stream",
     "text": [
      "                                                                                                                       \r"
     ]
    },
    {
     "name": "stdout",
     "output_type": "stream",
     "text": [
      "MoviePy - Done.\n",
      "Moviepy - Writing video 2output.mp4\n",
      "\n"
     ]
    },
    {
     "name": "stderr",
     "output_type": "stream",
     "text": [
      "                                                                                                                       \r"
     ]
    },
    {
     "name": "stdout",
     "output_type": "stream",
     "text": [
      "Moviepy - Done !\n",
      "Moviepy - video ready 2output.mp4\n",
      "Video successfully created and saved as output.mp4\n",
      "458.0\n",
      "Moviepy - Building video 3output.mp4.\n",
      "MoviePy - Writing audio in 3outputTEMP_MPY_wvf_snd.mp4\n"
     ]
    },
    {
     "name": "stderr",
     "output_type": "stream",
     "text": [
      "                                                                                                                       \r"
     ]
    },
    {
     "name": "stdout",
     "output_type": "stream",
     "text": [
      "MoviePy - Done.\n",
      "Moviepy - Writing video 3output.mp4\n",
      "\n"
     ]
    },
    {
     "name": "stderr",
     "output_type": "stream",
     "text": [
      "                                                                                                                       \r"
     ]
    },
    {
     "name": "stdout",
     "output_type": "stream",
     "text": [
      "Moviepy - Done !\n",
      "Moviepy - video ready 3output.mp4\n",
      "Video successfully created and saved as output.mp4\n",
      "506.0\n",
      "Moviepy - Building video 4output.mp4.\n",
      "MoviePy - Writing audio in 4outputTEMP_MPY_wvf_snd.mp4\n"
     ]
    },
    {
     "name": "stderr",
     "output_type": "stream",
     "text": [
      "                                                                                                                       \r"
     ]
    },
    {
     "name": "stdout",
     "output_type": "stream",
     "text": [
      "MoviePy - Done.\n",
      "Moviepy - Writing video 4output.mp4\n",
      "\n"
     ]
    },
    {
     "name": "stderr",
     "output_type": "stream",
     "text": [
      "                                                                                                                       \r"
     ]
    },
    {
     "name": "stdout",
     "output_type": "stream",
     "text": [
      "Moviepy - Done !\n",
      "Moviepy - video ready 4output.mp4\n",
      "Video successfully created and saved as output.mp4\n",
      "545.0\n",
      "Moviepy - Building video 5output.mp4.\n",
      "MoviePy - Writing audio in 5outputTEMP_MPY_wvf_snd.mp4\n"
     ]
    },
    {
     "name": "stderr",
     "output_type": "stream",
     "text": [
      "                                                                                                                       \r"
     ]
    },
    {
     "name": "stdout",
     "output_type": "stream",
     "text": [
      "MoviePy - Done.\n",
      "Moviepy - Writing video 5output.mp4\n",
      "\n"
     ]
    },
    {
     "name": "stderr",
     "output_type": "stream",
     "text": [
      "                                                                                                                       \r"
     ]
    },
    {
     "name": "stdout",
     "output_type": "stream",
     "text": [
      "Moviepy - Done !\n",
      "Moviepy - video ready 5output.mp4\n",
      "Video successfully created and saved as output.mp4\n",
      "713.0\n",
      "Moviepy - Building video 6output.mp4.\n",
      "MoviePy - Writing audio in 6outputTEMP_MPY_wvf_snd.mp4\n"
     ]
    },
    {
     "name": "stderr",
     "output_type": "stream",
     "text": [
      "                                                                                                                       \r"
     ]
    },
    {
     "name": "stdout",
     "output_type": "stream",
     "text": [
      "MoviePy - Done.\n",
      "Moviepy - Writing video 6output.mp4\n",
      "\n"
     ]
    },
    {
     "name": "stderr",
     "output_type": "stream",
     "text": [
      "                                                                                                                       \r"
     ]
    },
    {
     "name": "stdout",
     "output_type": "stream",
     "text": [
      "Moviepy - Done !\n",
      "Moviepy - video ready 6output.mp4\n",
      "Video successfully created and saved as output.mp4\n",
      "747.0\n",
      "Moviepy - Building video 7output.mp4.\n",
      "MoviePy - Writing audio in 7outputTEMP_MPY_wvf_snd.mp4\n"
     ]
    },
    {
     "name": "stderr",
     "output_type": "stream",
     "text": [
      "                                                                                                                       \r"
     ]
    },
    {
     "name": "stdout",
     "output_type": "stream",
     "text": [
      "MoviePy - Done.\n",
      "Moviepy - Writing video 7output.mp4\n",
      "\n"
     ]
    },
    {
     "name": "stderr",
     "output_type": "stream",
     "text": [
      "                                                                                                                       \r"
     ]
    },
    {
     "name": "stdout",
     "output_type": "stream",
     "text": [
      "Moviepy - Done !\n",
      "Moviepy - video ready 7output.mp4\n",
      "Video successfully created and saved as output.mp4\n",
      "831.0\n",
      "Moviepy - Building video 8output.mp4.\n",
      "MoviePy - Writing audio in 8outputTEMP_MPY_wvf_snd.mp4\n"
     ]
    },
    {
     "name": "stderr",
     "output_type": "stream",
     "text": [
      "                                                                                                                       \r"
     ]
    },
    {
     "name": "stdout",
     "output_type": "stream",
     "text": [
      "MoviePy - Done.\n",
      "Moviepy - Writing video 8output.mp4\n",
      "\n"
     ]
    },
    {
     "name": "stderr",
     "output_type": "stream",
     "text": [
      "                                                                                                                       \r"
     ]
    },
    {
     "name": "stdout",
     "output_type": "stream",
     "text": [
      "Moviepy - Done !\n",
      "Moviepy - video ready 8output.mp4\n",
      "Video successfully created and saved as output.mp4\n",
      "890.0\n",
      "Moviepy - Building video 9output.mp4.\n",
      "MoviePy - Writing audio in 9outputTEMP_MPY_wvf_snd.mp4\n"
     ]
    },
    {
     "name": "stderr",
     "output_type": "stream",
     "text": [
      "chunk:  77%|███████████████████████████████████████████████▋              | 340/442 [00:02<00:00, 319.96it/s, now=None]"
     ]
    },
    {
     "ename": "OSError",
     "evalue": "Error in file C:\\Users\\Aaditya M Bannore\\AppData\\Local\\Temp\\temp_video.mp4, Accessing time t=907.29-907.33 seconds, with clip duration=907 seconds, ",
     "output_type": "error",
     "traceback": [
      "\u001b[1;31m---------------------------------------------------------------------------\u001b[0m",
      "\u001b[1;31mOSError\u001b[0m                                   Traceback (most recent call last)",
      "Cell \u001b[1;32mIn[3], line 35\u001b[0m\n\u001b[0;32m     33\u001b[0m j\u001b[38;5;241m=\u001b[39mj\u001b[38;5;241m+\u001b[39m\u001b[38;5;241m1\u001b[39m\n\u001b[0;32m     34\u001b[0m clip1 \u001b[38;5;241m=\u001b[39m VideoFileClip(temp_file_path)\u001b[38;5;241m.\u001b[39msubclip(start_time, end_time)\n\u001b[1;32m---> 35\u001b[0m \u001b[43mclip1\u001b[49m\u001b[38;5;241;43m.\u001b[39;49m\u001b[43mwrite_videofile\u001b[49m\u001b[43m(\u001b[49m\u001b[43mname\u001b[49m\u001b[43m,\u001b[49m\u001b[43m \u001b[49m\u001b[43mcodec\u001b[49m\u001b[38;5;241;43m=\u001b[39;49m\u001b[38;5;124;43m\"\u001b[39;49m\u001b[38;5;124;43mlibx264\u001b[39;49m\u001b[38;5;124;43m\"\u001b[39;49m\u001b[43m,\u001b[49m\u001b[43m \u001b[49m\u001b[43maudio_codec\u001b[49m\u001b[38;5;241;43m=\u001b[39;49m\u001b[38;5;124;43m\"\u001b[39;49m\u001b[38;5;124;43maac\u001b[39;49m\u001b[38;5;124;43m\"\u001b[39;49m\u001b[43m)\u001b[49m\n\u001b[0;32m     37\u001b[0m \u001b[38;5;28mprint\u001b[39m(\u001b[38;5;124m\"\u001b[39m\u001b[38;5;124mVideo successfully created and saved as output.mp4\u001b[39m\u001b[38;5;124m\"\u001b[39m)\n",
      "File \u001b[1;32m<decorator-gen-73>:2\u001b[0m, in \u001b[0;36mwrite_videofile\u001b[1;34m(self, filename, fps, codec, bitrate, audio, audio_fps, preset, audio_nbytes, audio_codec, audio_bitrate, audio_bufsize, temp_audiofile, rewrite_audio, remove_temp, write_logfile, verbose, threads, ffmpeg_params, logger)\u001b[0m\n",
      "File \u001b[1;32m~\\AppData\\Local\\Programs\\Python\\Python311\\Lib\\site-packages\\moviepy\\decorators.py:54\u001b[0m, in \u001b[0;36mrequires_duration\u001b[1;34m(f, clip, *a, **k)\u001b[0m\n\u001b[0;32m     52\u001b[0m     \u001b[38;5;28;01mraise\u001b[39;00m \u001b[38;5;167;01mValueError\u001b[39;00m(\u001b[38;5;124m\"\u001b[39m\u001b[38;5;124mAttribute \u001b[39m\u001b[38;5;124m'\u001b[39m\u001b[38;5;124mduration\u001b[39m\u001b[38;5;124m'\u001b[39m\u001b[38;5;124m not set\u001b[39m\u001b[38;5;124m\"\u001b[39m)\n\u001b[0;32m     53\u001b[0m \u001b[38;5;28;01melse\u001b[39;00m:\n\u001b[1;32m---> 54\u001b[0m     \u001b[38;5;28;01mreturn\u001b[39;00m \u001b[43mf\u001b[49m\u001b[43m(\u001b[49m\u001b[43mclip\u001b[49m\u001b[43m,\u001b[49m\u001b[43m \u001b[49m\u001b[38;5;241;43m*\u001b[39;49m\u001b[43ma\u001b[49m\u001b[43m,\u001b[49m\u001b[43m \u001b[49m\u001b[38;5;241;43m*\u001b[39;49m\u001b[38;5;241;43m*\u001b[39;49m\u001b[43mk\u001b[49m\u001b[43m)\u001b[49m\n",
      "File \u001b[1;32m<decorator-gen-72>:2\u001b[0m, in \u001b[0;36mwrite_videofile\u001b[1;34m(self, filename, fps, codec, bitrate, audio, audio_fps, preset, audio_nbytes, audio_codec, audio_bitrate, audio_bufsize, temp_audiofile, rewrite_audio, remove_temp, write_logfile, verbose, threads, ffmpeg_params, logger)\u001b[0m\n",
      "File \u001b[1;32m~\\AppData\\Local\\Programs\\Python\\Python311\\Lib\\site-packages\\moviepy\\decorators.py:135\u001b[0m, in \u001b[0;36muse_clip_fps_by_default\u001b[1;34m(f, clip, *a, **k)\u001b[0m\n\u001b[0;32m    130\u001b[0m new_a \u001b[38;5;241m=\u001b[39m [fun(arg) \u001b[38;5;28;01mif\u001b[39;00m (name\u001b[38;5;241m==\u001b[39m\u001b[38;5;124m'\u001b[39m\u001b[38;5;124mfps\u001b[39m\u001b[38;5;124m'\u001b[39m) \u001b[38;5;28;01melse\u001b[39;00m arg\n\u001b[0;32m    131\u001b[0m          \u001b[38;5;28;01mfor\u001b[39;00m (arg, name) \u001b[38;5;129;01min\u001b[39;00m \u001b[38;5;28mzip\u001b[39m(a, names)]\n\u001b[0;32m    132\u001b[0m new_kw \u001b[38;5;241m=\u001b[39m {k: fun(v) \u001b[38;5;28;01mif\u001b[39;00m k\u001b[38;5;241m==\u001b[39m\u001b[38;5;124m'\u001b[39m\u001b[38;5;124mfps\u001b[39m\u001b[38;5;124m'\u001b[39m \u001b[38;5;28;01melse\u001b[39;00m v\n\u001b[0;32m    133\u001b[0m          \u001b[38;5;28;01mfor\u001b[39;00m (k,v) \u001b[38;5;129;01min\u001b[39;00m k\u001b[38;5;241m.\u001b[39mitems()}\n\u001b[1;32m--> 135\u001b[0m \u001b[38;5;28;01mreturn\u001b[39;00m \u001b[43mf\u001b[49m\u001b[43m(\u001b[49m\u001b[43mclip\u001b[49m\u001b[43m,\u001b[49m\u001b[43m \u001b[49m\u001b[38;5;241;43m*\u001b[39;49m\u001b[43mnew_a\u001b[49m\u001b[43m,\u001b[49m\u001b[43m \u001b[49m\u001b[38;5;241;43m*\u001b[39;49m\u001b[38;5;241;43m*\u001b[39;49m\u001b[43mnew_kw\u001b[49m\u001b[43m)\u001b[49m\n",
      "File \u001b[1;32m<decorator-gen-71>:2\u001b[0m, in \u001b[0;36mwrite_videofile\u001b[1;34m(self, filename, fps, codec, bitrate, audio, audio_fps, preset, audio_nbytes, audio_codec, audio_bitrate, audio_bufsize, temp_audiofile, rewrite_audio, remove_temp, write_logfile, verbose, threads, ffmpeg_params, logger)\u001b[0m\n",
      "File \u001b[1;32m~\\AppData\\Local\\Programs\\Python\\Python311\\Lib\\site-packages\\moviepy\\decorators.py:22\u001b[0m, in \u001b[0;36mconvert_masks_to_RGB\u001b[1;34m(f, clip, *a, **k)\u001b[0m\n\u001b[0;32m     20\u001b[0m \u001b[38;5;28;01mif\u001b[39;00m clip\u001b[38;5;241m.\u001b[39mismask:\n\u001b[0;32m     21\u001b[0m     clip \u001b[38;5;241m=\u001b[39m clip\u001b[38;5;241m.\u001b[39mto_RGB()\n\u001b[1;32m---> 22\u001b[0m \u001b[38;5;28;01mreturn\u001b[39;00m \u001b[43mf\u001b[49m\u001b[43m(\u001b[49m\u001b[43mclip\u001b[49m\u001b[43m,\u001b[49m\u001b[43m \u001b[49m\u001b[38;5;241;43m*\u001b[39;49m\u001b[43ma\u001b[49m\u001b[43m,\u001b[49m\u001b[43m \u001b[49m\u001b[38;5;241;43m*\u001b[39;49m\u001b[38;5;241;43m*\u001b[39;49m\u001b[43mk\u001b[49m\u001b[43m)\u001b[49m\n",
      "File \u001b[1;32m~\\AppData\\Local\\Programs\\Python\\Python311\\Lib\\site-packages\\moviepy\\video\\VideoClip.py:293\u001b[0m, in \u001b[0;36mVideoClip.write_videofile\u001b[1;34m(self, filename, fps, codec, bitrate, audio, audio_fps, preset, audio_nbytes, audio_codec, audio_bitrate, audio_bufsize, temp_audiofile, rewrite_audio, remove_temp, write_logfile, verbose, threads, ffmpeg_params, logger)\u001b[0m\n\u001b[0;32m    291\u001b[0m logger(message\u001b[38;5;241m=\u001b[39m\u001b[38;5;124m\"\u001b[39m\u001b[38;5;124mMoviepy - Building video \u001b[39m\u001b[38;5;132;01m%s\u001b[39;00m\u001b[38;5;124m.\u001b[39m\u001b[38;5;124m\"\u001b[39m \u001b[38;5;241m%\u001b[39m filename)\n\u001b[0;32m    292\u001b[0m \u001b[38;5;28;01mif\u001b[39;00m make_audio:\n\u001b[1;32m--> 293\u001b[0m     \u001b[38;5;28;43mself\u001b[39;49m\u001b[38;5;241;43m.\u001b[39;49m\u001b[43maudio\u001b[49m\u001b[38;5;241;43m.\u001b[39;49m\u001b[43mwrite_audiofile\u001b[49m\u001b[43m(\u001b[49m\u001b[43maudiofile\u001b[49m\u001b[43m,\u001b[49m\u001b[43m \u001b[49m\u001b[43maudio_fps\u001b[49m\u001b[43m,\u001b[49m\n\u001b[0;32m    294\u001b[0m \u001b[43m                               \u001b[49m\u001b[43maudio_nbytes\u001b[49m\u001b[43m,\u001b[49m\u001b[43m \u001b[49m\u001b[43maudio_bufsize\u001b[49m\u001b[43m,\u001b[49m\n\u001b[0;32m    295\u001b[0m \u001b[43m                               \u001b[49m\u001b[43maudio_codec\u001b[49m\u001b[43m,\u001b[49m\u001b[43m \u001b[49m\u001b[43mbitrate\u001b[49m\u001b[38;5;241;43m=\u001b[39;49m\u001b[43maudio_bitrate\u001b[49m\u001b[43m,\u001b[49m\n\u001b[0;32m    296\u001b[0m \u001b[43m                               \u001b[49m\u001b[43mwrite_logfile\u001b[49m\u001b[38;5;241;43m=\u001b[39;49m\u001b[43mwrite_logfile\u001b[49m\u001b[43m,\u001b[49m\n\u001b[0;32m    297\u001b[0m \u001b[43m                               \u001b[49m\u001b[43mverbose\u001b[49m\u001b[38;5;241;43m=\u001b[39;49m\u001b[43mverbose\u001b[49m\u001b[43m,\u001b[49m\n\u001b[0;32m    298\u001b[0m \u001b[43m                               \u001b[49m\u001b[43mlogger\u001b[49m\u001b[38;5;241;43m=\u001b[39;49m\u001b[43mlogger\u001b[49m\u001b[43m)\u001b[49m\n\u001b[0;32m    300\u001b[0m ffmpeg_write_video(\u001b[38;5;28mself\u001b[39m, filename, fps, codec,\n\u001b[0;32m    301\u001b[0m                    bitrate\u001b[38;5;241m=\u001b[39mbitrate,\n\u001b[0;32m    302\u001b[0m                    preset\u001b[38;5;241m=\u001b[39mpreset,\n\u001b[1;32m   (...)\u001b[0m\n\u001b[0;32m    306\u001b[0m                    ffmpeg_params\u001b[38;5;241m=\u001b[39mffmpeg_params,\n\u001b[0;32m    307\u001b[0m                    logger\u001b[38;5;241m=\u001b[39mlogger)\n\u001b[0;32m    309\u001b[0m \u001b[38;5;28;01mif\u001b[39;00m remove_temp \u001b[38;5;129;01mand\u001b[39;00m make_audio:\n",
      "File \u001b[1;32m<decorator-gen-63>:2\u001b[0m, in \u001b[0;36mwrite_audiofile\u001b[1;34m(self, filename, fps, nbytes, buffersize, codec, bitrate, ffmpeg_params, write_logfile, verbose, logger)\u001b[0m\n",
      "File \u001b[1;32m~\\AppData\\Local\\Programs\\Python\\Python311\\Lib\\site-packages\\moviepy\\decorators.py:54\u001b[0m, in \u001b[0;36mrequires_duration\u001b[1;34m(f, clip, *a, **k)\u001b[0m\n\u001b[0;32m     52\u001b[0m     \u001b[38;5;28;01mraise\u001b[39;00m \u001b[38;5;167;01mValueError\u001b[39;00m(\u001b[38;5;124m\"\u001b[39m\u001b[38;5;124mAttribute \u001b[39m\u001b[38;5;124m'\u001b[39m\u001b[38;5;124mduration\u001b[39m\u001b[38;5;124m'\u001b[39m\u001b[38;5;124m not set\u001b[39m\u001b[38;5;124m\"\u001b[39m)\n\u001b[0;32m     53\u001b[0m \u001b[38;5;28;01melse\u001b[39;00m:\n\u001b[1;32m---> 54\u001b[0m     \u001b[38;5;28;01mreturn\u001b[39;00m \u001b[43mf\u001b[49m\u001b[43m(\u001b[49m\u001b[43mclip\u001b[49m\u001b[43m,\u001b[49m\u001b[43m \u001b[49m\u001b[38;5;241;43m*\u001b[39;49m\u001b[43ma\u001b[49m\u001b[43m,\u001b[49m\u001b[43m \u001b[49m\u001b[38;5;241;43m*\u001b[39;49m\u001b[38;5;241;43m*\u001b[39;49m\u001b[43mk\u001b[49m\u001b[43m)\u001b[49m\n",
      "File \u001b[1;32m~\\AppData\\Local\\Programs\\Python\\Python311\\Lib\\site-packages\\moviepy\\audio\\AudioClip.py:206\u001b[0m, in \u001b[0;36mAudioClip.write_audiofile\u001b[1;34m(self, filename, fps, nbytes, buffersize, codec, bitrate, ffmpeg_params, write_logfile, verbose, logger)\u001b[0m\n\u001b[0;32m    201\u001b[0m     \u001b[38;5;28;01mexcept\u001b[39;00m \u001b[38;5;167;01mKeyError\u001b[39;00m:\n\u001b[0;32m    202\u001b[0m         \u001b[38;5;28;01mraise\u001b[39;00m \u001b[38;5;167;01mValueError\u001b[39;00m(\u001b[38;5;124m\"\u001b[39m\u001b[38;5;124mMoviePy couldn\u001b[39m\u001b[38;5;124m'\u001b[39m\u001b[38;5;124mt find the codec associated \u001b[39m\u001b[38;5;124m\"\u001b[39m\n\u001b[0;32m    203\u001b[0m                          \u001b[38;5;124m\"\u001b[39m\u001b[38;5;124mwith the filename. Provide the \u001b[39m\u001b[38;5;124m'\u001b[39m\u001b[38;5;124mcodec\u001b[39m\u001b[38;5;124m'\u001b[39m\u001b[38;5;124m \u001b[39m\u001b[38;5;124m\"\u001b[39m\n\u001b[0;32m    204\u001b[0m                          \u001b[38;5;124m\"\u001b[39m\u001b[38;5;124mparameter in write_audiofile.\u001b[39m\u001b[38;5;124m\"\u001b[39m)\n\u001b[1;32m--> 206\u001b[0m \u001b[38;5;28;01mreturn\u001b[39;00m \u001b[43mffmpeg_audiowrite\u001b[49m\u001b[43m(\u001b[49m\u001b[38;5;28;43mself\u001b[39;49m\u001b[43m,\u001b[49m\u001b[43m \u001b[49m\u001b[43mfilename\u001b[49m\u001b[43m,\u001b[49m\u001b[43m \u001b[49m\u001b[43mfps\u001b[49m\u001b[43m,\u001b[49m\u001b[43m \u001b[49m\u001b[43mnbytes\u001b[49m\u001b[43m,\u001b[49m\u001b[43m \u001b[49m\u001b[43mbuffersize\u001b[49m\u001b[43m,\u001b[49m\n\u001b[0;32m    207\u001b[0m \u001b[43m                         \u001b[49m\u001b[43mcodec\u001b[49m\u001b[38;5;241;43m=\u001b[39;49m\u001b[43mcodec\u001b[49m\u001b[43m,\u001b[49m\u001b[43m \u001b[49m\u001b[43mbitrate\u001b[49m\u001b[38;5;241;43m=\u001b[39;49m\u001b[43mbitrate\u001b[49m\u001b[43m,\u001b[49m\n\u001b[0;32m    208\u001b[0m \u001b[43m                         \u001b[49m\u001b[43mwrite_logfile\u001b[49m\u001b[38;5;241;43m=\u001b[39;49m\u001b[43mwrite_logfile\u001b[49m\u001b[43m,\u001b[49m\u001b[43m \u001b[49m\u001b[43mverbose\u001b[49m\u001b[38;5;241;43m=\u001b[39;49m\u001b[43mverbose\u001b[49m\u001b[43m,\u001b[49m\n\u001b[0;32m    209\u001b[0m \u001b[43m                         \u001b[49m\u001b[43mffmpeg_params\u001b[49m\u001b[38;5;241;43m=\u001b[39;49m\u001b[43mffmpeg_params\u001b[49m\u001b[43m,\u001b[49m\n\u001b[0;32m    210\u001b[0m \u001b[43m                         \u001b[49m\u001b[43mlogger\u001b[49m\u001b[38;5;241;43m=\u001b[39;49m\u001b[43mlogger\u001b[49m\u001b[43m)\u001b[49m\n",
      "File \u001b[1;32m<decorator-gen-27>:2\u001b[0m, in \u001b[0;36mffmpeg_audiowrite\u001b[1;34m(clip, filename, fps, nbytes, buffersize, codec, bitrate, write_logfile, verbose, ffmpeg_params, logger)\u001b[0m\n",
      "File \u001b[1;32m~\\AppData\\Local\\Programs\\Python\\Python311\\Lib\\site-packages\\moviepy\\decorators.py:54\u001b[0m, in \u001b[0;36mrequires_duration\u001b[1;34m(f, clip, *a, **k)\u001b[0m\n\u001b[0;32m     52\u001b[0m     \u001b[38;5;28;01mraise\u001b[39;00m \u001b[38;5;167;01mValueError\u001b[39;00m(\u001b[38;5;124m\"\u001b[39m\u001b[38;5;124mAttribute \u001b[39m\u001b[38;5;124m'\u001b[39m\u001b[38;5;124mduration\u001b[39m\u001b[38;5;124m'\u001b[39m\u001b[38;5;124m not set\u001b[39m\u001b[38;5;124m\"\u001b[39m)\n\u001b[0;32m     53\u001b[0m \u001b[38;5;28;01melse\u001b[39;00m:\n\u001b[1;32m---> 54\u001b[0m     \u001b[38;5;28;01mreturn\u001b[39;00m \u001b[43mf\u001b[49m\u001b[43m(\u001b[49m\u001b[43mclip\u001b[49m\u001b[43m,\u001b[49m\u001b[43m \u001b[49m\u001b[38;5;241;43m*\u001b[39;49m\u001b[43ma\u001b[49m\u001b[43m,\u001b[49m\u001b[43m \u001b[49m\u001b[38;5;241;43m*\u001b[39;49m\u001b[38;5;241;43m*\u001b[39;49m\u001b[43mk\u001b[49m\u001b[43m)\u001b[49m\n",
      "File \u001b[1;32m~\\AppData\\Local\\Programs\\Python\\Python311\\Lib\\site-packages\\moviepy\\audio\\io\\ffmpeg_audiowriter.py:166\u001b[0m, in \u001b[0;36mffmpeg_audiowrite\u001b[1;34m(clip, filename, fps, nbytes, buffersize, codec, bitrate, write_logfile, verbose, ffmpeg_params, logger)\u001b[0m\n\u001b[0;32m    160\u001b[0m logger(message\u001b[38;5;241m=\u001b[39m\u001b[38;5;124m\"\u001b[39m\u001b[38;5;124mMoviePy - Writing audio in \u001b[39m\u001b[38;5;132;01m%s\u001b[39;00m\u001b[38;5;124m\"\u001b[39m \u001b[38;5;241m%\u001b[39m filename)\n\u001b[0;32m    161\u001b[0m writer \u001b[38;5;241m=\u001b[39m FFMPEG_AudioWriter(filename, fps, nbytes, clip\u001b[38;5;241m.\u001b[39mnchannels,\n\u001b[0;32m    162\u001b[0m                             codec\u001b[38;5;241m=\u001b[39mcodec, bitrate\u001b[38;5;241m=\u001b[39mbitrate,\n\u001b[0;32m    163\u001b[0m                             logfile\u001b[38;5;241m=\u001b[39mlogfile,\n\u001b[0;32m    164\u001b[0m                             ffmpeg_params\u001b[38;5;241m=\u001b[39mffmpeg_params)\n\u001b[1;32m--> 166\u001b[0m \u001b[38;5;28;01mfor\u001b[39;00m chunk \u001b[38;5;129;01min\u001b[39;00m clip\u001b[38;5;241m.\u001b[39miter_chunks(chunksize\u001b[38;5;241m=\u001b[39mbuffersize,\n\u001b[0;32m    167\u001b[0m                               quantize\u001b[38;5;241m=\u001b[39m\u001b[38;5;28;01mTrue\u001b[39;00m,\n\u001b[0;32m    168\u001b[0m                               nbytes\u001b[38;5;241m=\u001b[39mnbytes, fps\u001b[38;5;241m=\u001b[39mfps,\n\u001b[0;32m    169\u001b[0m                               logger\u001b[38;5;241m=\u001b[39mlogger):\n\u001b[0;32m    170\u001b[0m     writer\u001b[38;5;241m.\u001b[39mwrite_frames(chunk)\n\u001b[0;32m    172\u001b[0m writer\u001b[38;5;241m.\u001b[39mclose()\n",
      "File \u001b[1;32m~\\AppData\\Local\\Programs\\Python\\Python311\\Lib\\site-packages\\moviepy\\audio\\AudioClip.py:85\u001b[0m, in \u001b[0;36mAudioClip.iter_chunks\u001b[1;34m(self, chunksize, chunk_duration, fps, quantize, nbytes, logger)\u001b[0m\n\u001b[0;32m     83\u001b[0m \u001b[38;5;28;01massert\u001b[39;00m(size \u001b[38;5;241m<\u001b[39m\u001b[38;5;241m=\u001b[39m chunksize)\n\u001b[0;32m     84\u001b[0m tt \u001b[38;5;241m=\u001b[39m (\u001b[38;5;241m1.0\u001b[39m\u001b[38;5;241m/\u001b[39mfps)\u001b[38;5;241m*\u001b[39mnp\u001b[38;5;241m.\u001b[39marange(pospos[i], pospos[i\u001b[38;5;241m+\u001b[39m\u001b[38;5;241m1\u001b[39m])\n\u001b[1;32m---> 85\u001b[0m \u001b[38;5;28;01myield\u001b[39;00m \u001b[38;5;28;43mself\u001b[39;49m\u001b[38;5;241;43m.\u001b[39;49m\u001b[43mto_soundarray\u001b[49m\u001b[43m(\u001b[49m\u001b[43mtt\u001b[49m\u001b[43m,\u001b[49m\u001b[43m \u001b[49m\u001b[43mnbytes\u001b[49m\u001b[38;5;241;43m=\u001b[39;49m\u001b[43mnbytes\u001b[49m\u001b[43m,\u001b[49m\u001b[43m \u001b[49m\u001b[43mquantize\u001b[49m\u001b[38;5;241;43m=\u001b[39;49m\u001b[43mquantize\u001b[49m\u001b[43m,\u001b[49m\n\u001b[0;32m     86\u001b[0m \u001b[43m                            \u001b[49m\u001b[43mfps\u001b[49m\u001b[38;5;241;43m=\u001b[39;49m\u001b[43mfps\u001b[49m\u001b[43m,\u001b[49m\u001b[43m \u001b[49m\u001b[43mbuffersize\u001b[49m\u001b[38;5;241;43m=\u001b[39;49m\u001b[43mchunksize\u001b[49m\u001b[43m)\u001b[49m\n",
      "File \u001b[1;32m<decorator-gen-62>:2\u001b[0m, in \u001b[0;36mto_soundarray\u001b[1;34m(self, tt, fps, quantize, nbytes, buffersize)\u001b[0m\n",
      "File \u001b[1;32m~\\AppData\\Local\\Programs\\Python\\Python311\\Lib\\site-packages\\moviepy\\decorators.py:54\u001b[0m, in \u001b[0;36mrequires_duration\u001b[1;34m(f, clip, *a, **k)\u001b[0m\n\u001b[0;32m     52\u001b[0m     \u001b[38;5;28;01mraise\u001b[39;00m \u001b[38;5;167;01mValueError\u001b[39;00m(\u001b[38;5;124m\"\u001b[39m\u001b[38;5;124mAttribute \u001b[39m\u001b[38;5;124m'\u001b[39m\u001b[38;5;124mduration\u001b[39m\u001b[38;5;124m'\u001b[39m\u001b[38;5;124m not set\u001b[39m\u001b[38;5;124m\"\u001b[39m)\n\u001b[0;32m     53\u001b[0m \u001b[38;5;28;01melse\u001b[39;00m:\n\u001b[1;32m---> 54\u001b[0m     \u001b[38;5;28;01mreturn\u001b[39;00m \u001b[43mf\u001b[49m\u001b[43m(\u001b[49m\u001b[43mclip\u001b[49m\u001b[43m,\u001b[49m\u001b[43m \u001b[49m\u001b[38;5;241;43m*\u001b[39;49m\u001b[43ma\u001b[49m\u001b[43m,\u001b[49m\u001b[43m \u001b[49m\u001b[38;5;241;43m*\u001b[39;49m\u001b[38;5;241;43m*\u001b[39;49m\u001b[43mk\u001b[49m\u001b[43m)\u001b[49m\n",
      "File \u001b[1;32m~\\AppData\\Local\\Programs\\Python\\Python311\\Lib\\site-packages\\moviepy\\audio\\AudioClip.py:127\u001b[0m, in \u001b[0;36mAudioClip.to_soundarray\u001b[1;34m(self, tt, fps, quantize, nbytes, buffersize)\u001b[0m\n\u001b[0;32m    117\u001b[0m \u001b[38;5;124;03m\"\"\"\u001b[39;00m\n\u001b[0;32m    118\u001b[0m \u001b[38;5;124;03melif len(tt)> 1.5*buffersize:\u001b[39;00m\n\u001b[0;32m    119\u001b[0m \u001b[38;5;124;03m    nchunks = int(len(tt)/buffersize+1)\u001b[39;00m\n\u001b[1;32m   (...)\u001b[0m\n\u001b[0;32m    123\u001b[0m \u001b[38;5;124;03m                      for ttc in tt_chunks])\u001b[39;00m\n\u001b[0;32m    124\u001b[0m \u001b[38;5;124;03m\"\"\"\u001b[39;00m\n\u001b[0;32m    125\u001b[0m \u001b[38;5;66;03m#print tt.max() - tt.min(), tt.min(), tt.max()\u001b[39;00m\n\u001b[1;32m--> 127\u001b[0m snd_array \u001b[38;5;241m=\u001b[39m \u001b[38;5;28;43mself\u001b[39;49m\u001b[38;5;241;43m.\u001b[39;49m\u001b[43mget_frame\u001b[49m\u001b[43m(\u001b[49m\u001b[43mtt\u001b[49m\u001b[43m)\u001b[49m\n\u001b[0;32m    129\u001b[0m \u001b[38;5;28;01mif\u001b[39;00m quantize:\n\u001b[0;32m    130\u001b[0m     snd_array \u001b[38;5;241m=\u001b[39m np\u001b[38;5;241m.\u001b[39mmaximum(\u001b[38;5;241m-\u001b[39m\u001b[38;5;241m0.99\u001b[39m, np\u001b[38;5;241m.\u001b[39mminimum(\u001b[38;5;241m0.99\u001b[39m, snd_array))\n",
      "File \u001b[1;32m<decorator-gen-29>:2\u001b[0m, in \u001b[0;36mget_frame\u001b[1;34m(self, t)\u001b[0m\n",
      "File \u001b[1;32m~\\AppData\\Local\\Programs\\Python\\Python311\\Lib\\site-packages\\moviepy\\decorators.py:89\u001b[0m, in \u001b[0;36mpreprocess_args.<locals>.wrapper\u001b[1;34m(f, *a, **kw)\u001b[0m\n\u001b[0;32m     85\u001b[0m new_a \u001b[38;5;241m=\u001b[39m [fun(arg) \u001b[38;5;28;01mif\u001b[39;00m (name \u001b[38;5;129;01min\u001b[39;00m varnames) \u001b[38;5;28;01melse\u001b[39;00m arg\n\u001b[0;32m     86\u001b[0m          \u001b[38;5;28;01mfor\u001b[39;00m (arg, name) \u001b[38;5;129;01min\u001b[39;00m \u001b[38;5;28mzip\u001b[39m(a, names)]\n\u001b[0;32m     87\u001b[0m new_kw \u001b[38;5;241m=\u001b[39m {k: fun(v) \u001b[38;5;28;01mif\u001b[39;00m k \u001b[38;5;129;01min\u001b[39;00m varnames \u001b[38;5;28;01melse\u001b[39;00m v\n\u001b[0;32m     88\u001b[0m          \u001b[38;5;28;01mfor\u001b[39;00m (k,v) \u001b[38;5;129;01min\u001b[39;00m kw\u001b[38;5;241m.\u001b[39mitems()}\n\u001b[1;32m---> 89\u001b[0m \u001b[38;5;28;01mreturn\u001b[39;00m \u001b[43mf\u001b[49m\u001b[43m(\u001b[49m\u001b[38;5;241;43m*\u001b[39;49m\u001b[43mnew_a\u001b[49m\u001b[43m,\u001b[49m\u001b[43m \u001b[49m\u001b[38;5;241;43m*\u001b[39;49m\u001b[38;5;241;43m*\u001b[39;49m\u001b[43mnew_kw\u001b[49m\u001b[43m)\u001b[49m\n",
      "File \u001b[1;32m~\\AppData\\Local\\Programs\\Python\\Python311\\Lib\\site-packages\\moviepy\\Clip.py:93\u001b[0m, in \u001b[0;36mClip.get_frame\u001b[1;34m(self, t)\u001b[0m\n\u001b[0;32m     91\u001b[0m         \u001b[38;5;28;01mreturn\u001b[39;00m frame\n\u001b[0;32m     92\u001b[0m \u001b[38;5;28;01melse\u001b[39;00m:\n\u001b[1;32m---> 93\u001b[0m     \u001b[38;5;28;01mreturn\u001b[39;00m \u001b[38;5;28;43mself\u001b[39;49m\u001b[38;5;241;43m.\u001b[39;49m\u001b[43mmake_frame\u001b[49m\u001b[43m(\u001b[49m\u001b[43mt\u001b[49m\u001b[43m)\u001b[49m\n",
      "File \u001b[1;32m~\\AppData\\Local\\Programs\\Python\\Python311\\Lib\\site-packages\\moviepy\\Clip.py:136\u001b[0m, in \u001b[0;36mClip.fl.<locals>.<lambda>\u001b[1;34m(t)\u001b[0m\n\u001b[0;32m    133\u001b[0m     apply_to \u001b[38;5;241m=\u001b[39m []\n\u001b[0;32m    135\u001b[0m \u001b[38;5;66;03m#mf = copy(self.make_frame)\u001b[39;00m\n\u001b[1;32m--> 136\u001b[0m newclip \u001b[38;5;241m=\u001b[39m \u001b[38;5;28mself\u001b[39m\u001b[38;5;241m.\u001b[39mset_make_frame(\u001b[38;5;28;01mlambda\u001b[39;00m t: \u001b[43mfun\u001b[49m\u001b[43m(\u001b[49m\u001b[38;5;28;43mself\u001b[39;49m\u001b[38;5;241;43m.\u001b[39;49m\u001b[43mget_frame\u001b[49m\u001b[43m,\u001b[49m\u001b[43m \u001b[49m\u001b[43mt\u001b[49m\u001b[43m)\u001b[49m)\n\u001b[0;32m    138\u001b[0m \u001b[38;5;28;01mif\u001b[39;00m \u001b[38;5;129;01mnot\u001b[39;00m keep_duration:\n\u001b[0;32m    139\u001b[0m     newclip\u001b[38;5;241m.\u001b[39mduration \u001b[38;5;241m=\u001b[39m \u001b[38;5;28;01mNone\u001b[39;00m\n",
      "File \u001b[1;32m~\\AppData\\Local\\Programs\\Python\\Python311\\Lib\\site-packages\\moviepy\\Clip.py:187\u001b[0m, in \u001b[0;36mClip.fl_time.<locals>.<lambda>\u001b[1;34m(gf, t)\u001b[0m\n\u001b[0;32m    184\u001b[0m \u001b[38;5;28;01mif\u001b[39;00m apply_to \u001b[38;5;129;01mis\u001b[39;00m \u001b[38;5;28;01mNone\u001b[39;00m:\n\u001b[0;32m    185\u001b[0m     apply_to \u001b[38;5;241m=\u001b[39m []\n\u001b[1;32m--> 187\u001b[0m \u001b[38;5;28;01mreturn\u001b[39;00m \u001b[38;5;28mself\u001b[39m\u001b[38;5;241m.\u001b[39mfl(\u001b[38;5;28;01mlambda\u001b[39;00m gf, t: \u001b[43mgf\u001b[49m\u001b[43m(\u001b[49m\u001b[43mt_func\u001b[49m\u001b[43m(\u001b[49m\u001b[43mt\u001b[49m\u001b[43m)\u001b[49m\u001b[43m)\u001b[49m, apply_to,\n\u001b[0;32m    188\u001b[0m                keep_duration\u001b[38;5;241m=\u001b[39mkeep_duration)\n",
      "File \u001b[1;32m<decorator-gen-29>:2\u001b[0m, in \u001b[0;36mget_frame\u001b[1;34m(self, t)\u001b[0m\n",
      "File \u001b[1;32m~\\AppData\\Local\\Programs\\Python\\Python311\\Lib\\site-packages\\moviepy\\decorators.py:89\u001b[0m, in \u001b[0;36mpreprocess_args.<locals>.wrapper\u001b[1;34m(f, *a, **kw)\u001b[0m\n\u001b[0;32m     85\u001b[0m new_a \u001b[38;5;241m=\u001b[39m [fun(arg) \u001b[38;5;28;01mif\u001b[39;00m (name \u001b[38;5;129;01min\u001b[39;00m varnames) \u001b[38;5;28;01melse\u001b[39;00m arg\n\u001b[0;32m     86\u001b[0m          \u001b[38;5;28;01mfor\u001b[39;00m (arg, name) \u001b[38;5;129;01min\u001b[39;00m \u001b[38;5;28mzip\u001b[39m(a, names)]\n\u001b[0;32m     87\u001b[0m new_kw \u001b[38;5;241m=\u001b[39m {k: fun(v) \u001b[38;5;28;01mif\u001b[39;00m k \u001b[38;5;129;01min\u001b[39;00m varnames \u001b[38;5;28;01melse\u001b[39;00m v\n\u001b[0;32m     88\u001b[0m          \u001b[38;5;28;01mfor\u001b[39;00m (k,v) \u001b[38;5;129;01min\u001b[39;00m kw\u001b[38;5;241m.\u001b[39mitems()}\n\u001b[1;32m---> 89\u001b[0m \u001b[38;5;28;01mreturn\u001b[39;00m \u001b[43mf\u001b[49m\u001b[43m(\u001b[49m\u001b[38;5;241;43m*\u001b[39;49m\u001b[43mnew_a\u001b[49m\u001b[43m,\u001b[49m\u001b[43m \u001b[49m\u001b[38;5;241;43m*\u001b[39;49m\u001b[38;5;241;43m*\u001b[39;49m\u001b[43mnew_kw\u001b[49m\u001b[43m)\u001b[49m\n",
      "File \u001b[1;32m~\\AppData\\Local\\Programs\\Python\\Python311\\Lib\\site-packages\\moviepy\\Clip.py:93\u001b[0m, in \u001b[0;36mClip.get_frame\u001b[1;34m(self, t)\u001b[0m\n\u001b[0;32m     91\u001b[0m         \u001b[38;5;28;01mreturn\u001b[39;00m frame\n\u001b[0;32m     92\u001b[0m \u001b[38;5;28;01melse\u001b[39;00m:\n\u001b[1;32m---> 93\u001b[0m     \u001b[38;5;28;01mreturn\u001b[39;00m \u001b[38;5;28;43mself\u001b[39;49m\u001b[38;5;241;43m.\u001b[39;49m\u001b[43mmake_frame\u001b[49m\u001b[43m(\u001b[49m\u001b[43mt\u001b[49m\u001b[43m)\u001b[49m\n",
      "File \u001b[1;32m~\\AppData\\Local\\Programs\\Python\\Python311\\Lib\\site-packages\\moviepy\\audio\\io\\AudioFileClip.py:77\u001b[0m, in \u001b[0;36mAudioFileClip.__init__.<locals>.<lambda>\u001b[1;34m(t)\u001b[0m\n\u001b[0;32m     74\u001b[0m \u001b[38;5;28mself\u001b[39m\u001b[38;5;241m.\u001b[39mend \u001b[38;5;241m=\u001b[39m \u001b[38;5;28mself\u001b[39m\u001b[38;5;241m.\u001b[39mreader\u001b[38;5;241m.\u001b[39mduration\n\u001b[0;32m     75\u001b[0m \u001b[38;5;28mself\u001b[39m\u001b[38;5;241m.\u001b[39mbuffersize \u001b[38;5;241m=\u001b[39m \u001b[38;5;28mself\u001b[39m\u001b[38;5;241m.\u001b[39mreader\u001b[38;5;241m.\u001b[39mbuffersize\n\u001b[1;32m---> 77\u001b[0m \u001b[38;5;28mself\u001b[39m\u001b[38;5;241m.\u001b[39mmake_frame \u001b[38;5;241m=\u001b[39m \u001b[38;5;28;01mlambda\u001b[39;00m t: \u001b[38;5;28;43mself\u001b[39;49m\u001b[38;5;241;43m.\u001b[39;49m\u001b[43mreader\u001b[49m\u001b[38;5;241;43m.\u001b[39;49m\u001b[43mget_frame\u001b[49m\u001b[43m(\u001b[49m\u001b[43mt\u001b[49m\u001b[43m)\u001b[49m\n\u001b[0;32m     78\u001b[0m \u001b[38;5;28mself\u001b[39m\u001b[38;5;241m.\u001b[39mnchannels \u001b[38;5;241m=\u001b[39m \u001b[38;5;28mself\u001b[39m\u001b[38;5;241m.\u001b[39mreader\u001b[38;5;241m.\u001b[39mnchannels\n",
      "File \u001b[1;32m~\\AppData\\Local\\Programs\\Python\\Python311\\Lib\\site-packages\\moviepy\\audio\\io\\readers.py:170\u001b[0m, in \u001b[0;36mFFMPEG_AudioReader.get_frame\u001b[1;34m(self, tt)\u001b[0m\n\u001b[0;32m    168\u001b[0m \u001b[38;5;66;03m# Check that the requested time is in the valid range\u001b[39;00m\n\u001b[0;32m    169\u001b[0m     \u001b[38;5;28;01mif\u001b[39;00m \u001b[38;5;129;01mnot\u001b[39;00m in_time\u001b[38;5;241m.\u001b[39many():\n\u001b[1;32m--> 170\u001b[0m         \u001b[38;5;28;01mraise\u001b[39;00m \u001b[38;5;167;01mIOError\u001b[39;00m(\u001b[38;5;124m\"\u001b[39m\u001b[38;5;124mError in file \u001b[39m\u001b[38;5;132;01m%s\u001b[39;00m\u001b[38;5;124m, \u001b[39m\u001b[38;5;124m\"\u001b[39m\u001b[38;5;241m%\u001b[39m(\u001b[38;5;28mself\u001b[39m\u001b[38;5;241m.\u001b[39mfilename)\u001b[38;5;241m+\u001b[39m\n\u001b[0;32m    171\u001b[0m                \u001b[38;5;124m\"\u001b[39m\u001b[38;5;124mAccessing time t=\u001b[39m\u001b[38;5;132;01m%.02f\u001b[39;00m\u001b[38;5;124m-\u001b[39m\u001b[38;5;132;01m%.02f\u001b[39;00m\u001b[38;5;124m seconds, \u001b[39m\u001b[38;5;124m\"\u001b[39m\u001b[38;5;241m%\u001b[39m(tt[\u001b[38;5;241m0\u001b[39m], tt[\u001b[38;5;241m-\u001b[39m\u001b[38;5;241m1\u001b[39m])\u001b[38;5;241m+\u001b[39m\n\u001b[0;32m    172\u001b[0m                \u001b[38;5;124m\"\u001b[39m\u001b[38;5;124mwith clip duration=\u001b[39m\u001b[38;5;132;01m%d\u001b[39;00m\u001b[38;5;124m seconds, \u001b[39m\u001b[38;5;124m\"\u001b[39m\u001b[38;5;241m%\u001b[39m\u001b[38;5;28mself\u001b[39m\u001b[38;5;241m.\u001b[39mduration)\n\u001b[0;32m    174\u001b[0m     \u001b[38;5;66;03m# The np.round in the next line is super-important.\u001b[39;00m\n\u001b[0;32m    175\u001b[0m     \u001b[38;5;66;03m# Removing it results in artifacts in the noise.\u001b[39;00m\n\u001b[0;32m    176\u001b[0m     frames \u001b[38;5;241m=\u001b[39m np\u001b[38;5;241m.\u001b[39mround((\u001b[38;5;28mself\u001b[39m\u001b[38;5;241m.\u001b[39mfps\u001b[38;5;241m*\u001b[39mtt))\u001b[38;5;241m.\u001b[39mastype(\u001b[38;5;28mint\u001b[39m)[in_time]\n",
      "\u001b[1;31mOSError\u001b[0m: Error in file C:\\Users\\Aaditya M Bannore\\AppData\\Local\\Temp\\temp_video.mp4, Accessing time t=907.29-907.33 seconds, with clip duration=907 seconds, "
     ]
    },
    {
     "name": "stderr",
     "output_type": "stream",
     "text": [
      "chunk:  87%|█████████████████████████████████████████████████████▋        | 383/442 [00:16<00:00, 319.96it/s, now=None]"
     ]
    }
   ],
   "source": [
    "from pytube import YouTube\n",
    "from moviepy.editor import VideoFileClip\n",
    "import requests\n",
    "import tempfile\n",
    "import os\n",
    "import datetime\n",
    "import time\n",
    "#\"https://www.youtube.com/watch?v=L87PAAejHPs\"\n",
    "youtube_url = \"https://www.youtube.com/watch?v=g9ZU-SvOiSU\"\n",
    "j=0\n",
    "for i in ans:\n",
    "    \n",
    "    x = time.strptime(i.split(',')[0],'%H:%M:%S')\n",
    "    t = datetime.timedelta(hours=x.tm_hour,minutes=x.tm_min,seconds=x.tm_sec).total_seconds()\n",
    "    print(t)\n",
    "    \n",
    "    yt = YouTube(youtube_url)\n",
    "    yt_stream = yt.streams.get_highest_resolution()\n",
    "\n",
    "        # Set the desired start and end time in seconds\n",
    "    start_time = t\n",
    "    end_time = t+20\n",
    "\n",
    "        # Download video content and save it to a temporary file\n",
    "    response = requests.get(yt_stream.url)\n",
    "    temp_file_path = os.path.join(tempfile.gettempdir(), \"temp_video.mp4\")\n",
    "\n",
    "    with open(temp_file_path, \"wb\") as temp_file:\n",
    "        temp_file.write(response.content)\n",
    "\n",
    "        # Use moviepy to create subclip\n",
    "    name = str(j) + \"output.mp4\"\n",
    "    j=j+1\n",
    "    clip1 = VideoFileClip(temp_file_path).subclip(start_time, end_time)\n",
    "    clip1.write_videofile(name, codec=\"libx264\", audio_codec=\"aac\")\n",
    "\n",
    "    print(\"Video successfully created and saved as output.mp4\")"
   ]
  },
  {
   "cell_type": "code",
   "execution_count": 10,
   "id": "cc3d1919",
   "metadata": {},
   "outputs": [
    {
     "name": "stdout",
     "output_type": "stream",
     "text": [
      "131.0\n",
      "152.0\n",
      "231.0\n",
      "261.0\n",
      "356.0\n",
      "664.0\n",
      "728.0\n",
      "771.0\n",
      "946.0\n",
      "356.0\n",
      "1161.0\n"
     ]
    }
   ],
   "source": [
    "\n",
    "import datetime\n",
    "import time\n",
    "for i in ans:\n",
    "    x = time.strptime(i.split(',')[0],'%H:%M:%S')\n",
    "    t = datetime.timedelta(hours=x.tm_hour,minutes=x.tm_min,seconds=x.tm_sec).total_seconds()\n",
    "    print(t)"
   ]
  },
  {
   "cell_type": "code",
   "execution_count": 17,
   "id": "01b6ba2c",
   "metadata": {},
   "outputs": [
    {
     "name": "stdout",
     "output_type": "stream",
     "text": [
      "00:00:00output.mp4\n"
     ]
    },
    {
     "data": {
      "text/plain": [
       "str"
      ]
     },
     "execution_count": 17,
     "metadata": {},
     "output_type": "execute_result"
    }
   ],
   "source": [
    "i= \"00:00:00\"\n",
    "name = i + \"output.mp4\"\n",
    "\n",
    "print(name)\n",
    "type(name)"
   ]
  },
  {
   "cell_type": "code",
   "execution_count": null,
   "id": "9688bc92",
   "metadata": {},
   "outputs": [],
   "source": []
  }
 ],
 "metadata": {
  "kernelspec": {
   "display_name": "Python 3 (ipykernel)",
   "language": "python",
   "name": "python3"
  },
  "language_info": {
   "codemirror_mode": {
    "name": "ipython",
    "version": 3
   },
   "file_extension": ".py",
   "mimetype": "text/x-python",
   "name": "python",
   "nbconvert_exporter": "python",
   "pygments_lexer": "ipython3",
   "version": "3.11.1"
  }
 },
 "nbformat": 4,
 "nbformat_minor": 5
}
